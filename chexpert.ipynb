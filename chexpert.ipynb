{
 "cells": [
  {
   "attachments": {},
   "cell_type": "markdown",
   "metadata": {},
   "source": [
    "# CheXpert\n",
    "\n",
    "This notebook generates `chex.csv` assuming the following are downloaded:\n",
    "\n",
    "* [`CheXpert-v1.0.zip`](https://stanfordmlgroup.github.io/competitions/chexpert/) (azcopy is recommended to download)\n",
    "* [`train_cheXbert.csv`](https://stanfordmlgroup.github.io/competitions/chexpert/)\n"
   ]
  },
  {
   "cell_type": "markdown",
   "metadata": {},
   "source": [
    "### Listing files"
   ]
  },
  {
   "cell_type": "code",
   "execution_count": null,
   "metadata": {},
   "outputs": [],
   "source": [
    "from os.path import join\n",
    "\n",
    "import pandas as pd\n",
    "\n",
    "from common import read_toml\n",
    "from common import AGE_INTERVAL\n",
    "from common import CHEX_PATHOLOGIES as PATHOLOGIES\n",
    "\n",
    "\n",
    "UNIQUE_STUDIES = False"
   ]
  },
  {
   "cell_type": "code",
   "execution_count": null,
   "metadata": {},
   "outputs": [],
   "source": [
    "config = read_toml('config.toml')\n",
    "base_dir = config['chexpert_dir']\n",
    "!ls -hs1 {base_dir}"
   ]
  },
  {
   "cell_type": "markdown",
   "metadata": {},
   "source": [
    "### Generating CSV"
   ]
  },
  {
   "cell_type": "code",
   "execution_count": null,
   "metadata": {},
   "outputs": [],
   "source": [
    "train_df_path = join(base_dir, 'train_cheXbert.csv')\n",
    "train_df = pd.read_csv(train_df_path)\n",
    "train_df"
   ]
  },
  {
   "attachments": {},
   "cell_type": "markdown",
   "metadata": {},
   "source": [
    "Processing:"
   ]
  },
  {
   "cell_type": "code",
   "execution_count": null,
   "metadata": {},
   "outputs": [],
   "source": [
    "original_size = len(train_df)\n",
    "\n",
    "# drop no-finding\n",
    "df = train_df[~(train_df['No Finding'] == 1.0)]\n",
    "df = df.drop(['No Finding'], axis=1)\n",
    "\n",
    "# rename cols\n",
    "df = df.rename(columns={\n",
    "    'Path': 'name',\n",
    "    'Age': 'age',\n",
    "    'Sex': 'sex',\n",
    "    'AP/PA': 'view'\n",
    "})\n",
    "df = df.rename(columns={\n",
    "    'Pleural Effusion': 'Effusion',\n",
    "    'Lung Opacity': 'Lung_opacity',\n",
    "})\n",
    "for pathology in PATHOLOGIES:\n",
    "    df = df.rename(columns={pathology.capitalize(): pathology})\n",
    "\n",
    "# drop recors witrh missing metadata\n",
    "df = df.dropna(subset=['age', 'sex', 'view'])\n",
    "\n",
    "# keep records with at least one patology\n",
    "df = df.fillna(0)\n",
    "df = df.replace(-1.0, 0)\n",
    "df[PATHOLOGIES] = df[PATHOLOGIES].astype(int)\n",
    "df = df[df[PATHOLOGIES].any(axis=1)]\n",
    "\n",
    "# filter columns\n",
    "df = df[['name', 'age', 'sex', 'view'] + PATHOLOGIES]\n",
    "df = df[df['age'].between(*AGE_INTERVAL, inclusive='both')]\n",
    "\n",
    "df['name'] = df['name'].str[14:-4]\n",
    "df['sex'] = df['sex'].str[:1].str.lower()\n",
    "print('Unique views: ', df.view.unique())\n",
    "df['view'] = df['view'].str.lower()\n",
    "df = df[df['view'].isin(['ap', 'pa'])]\n",
    "\n",
    "df.insert(0, 'dataset', 'chexpert', True)\n",
    "\n",
    "df = df.reset_index(drop=True)\n",
    "dropped_size = len(df)\n",
    "print(f'train_df size: original {original_size}, new {dropped_size}, dropped {original_size - dropped_size}')\n",
    "df"
   ]
  },
  {
   "attachments": {},
   "cell_type": "markdown",
   "metadata": {},
   "source": [
    " Check there are no normal examples:"
   ]
  },
  {
   "cell_type": "code",
   "execution_count": null,
   "metadata": {},
   "outputs": [],
   "source": [
    "df[(~df[PATHOLOGIES].astype(bool)).all(axis=1)]"
   ]
  },
  {
   "cell_type": "markdown",
   "metadata": {},
   "source": [
    "### Saving CSV"
   ]
  },
  {
   "cell_type": "code",
   "execution_count": null,
   "metadata": {},
   "outputs": [],
   "source": [
    "path = join(read_toml('config.toml')['metachest_dir'], 'chexpert.csv')\n",
    "df.to_csv(path, index=False)\n",
    "path"
   ]
  },
  {
   "attachments": {},
   "cell_type": "markdown",
   "metadata": {},
   "source": [
    "Overview:"
   ]
  },
  {
   "cell_type": "code",
   "execution_count": null,
   "metadata": {},
   "outputs": [],
   "source": [
    "print(f'Total: {df.shape[0]}')\n",
    "df[PATHOLOGIES].sum()"
   ]
  }
 ],
 "metadata": {
  "kernelspec": {
   "display_name": "meta-cxr",
   "language": "python",
   "name": "python3"
  },
  "language_info": {
   "codemirror_mode": {
    "name": "ipython",
    "version": 3
   },
   "file_extension": ".py",
   "mimetype": "text/x-python",
   "name": "python",
   "nbconvert_exporter": "python",
   "pygments_lexer": "ipython3",
   "version": "3.12.3"
  },
  "orig_nbformat": 4,
  "vscode": {
   "interpreter": {
    "hash": "8be9d0b6298693657d11520f515dcd8496e5801b052b98cac8157da46021e2e8"
   }
  }
 },
 "nbformat": 4,
 "nbformat_minor": 2
}
