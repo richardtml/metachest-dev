{
 "cells": [
  {
   "attachments": {},
   "cell_type": "markdown",
   "metadata": {},
   "source": [
    "# Complete Meta-Learning Distribution\n",
    "\n",
    "This notebook generates the complete meta-learning distribution for MetaChest."
   ]
  },
  {
   "cell_type": "code",
   "execution_count": null,
   "metadata": {
    "execution": {
     "iopub.execute_input": "2024-05-15T01:18:09.190936Z",
     "iopub.status.busy": "2024-05-15T01:18:09.190822Z",
     "iopub.status.idle": "2024-05-15T01:18:09.856659Z",
     "shell.execute_reply": "2024-05-15T01:18:09.856290Z"
    }
   },
   "outputs": [],
   "source": [
    "from os import makedirs\n",
    "from os.path import join\n",
    "\n",
    "import pandas as pd\n",
    "import seaborn as sns\n",
    "\n",
    "from common import MCLASSES, filter_msets, read_toml, save_toml"
   ]
  },
  {
   "attachments": {},
   "cell_type": "markdown",
   "metadata": {},
   "source": [
    "## Generate"
   ]
  },
  {
   "cell_type": "code",
   "execution_count": null,
   "metadata": {
    "execution": {
     "iopub.execute_input": "2024-05-15T01:18:09.858543Z",
     "iopub.status.busy": "2024-05-15T01:18:09.858345Z",
     "iopub.status.idle": "2024-05-15T01:18:10.373361Z",
     "shell.execute_reply": "2024-05-15T01:18:10.372940Z"
    }
   },
   "outputs": [],
   "source": [
    "name = 'complete'\n",
    "mclasses = MCLASSES\n",
    "metachest_dir = read_toml('config.toml')['metachest_dir']\n",
    "mtl_dir = join(metachest_dir, 'mtl')\n",
    "\n",
    "df = pd.read_csv(join(metachest_dir, 'metachest.csv'))\n",
    "\n",
    "filter_df = pd.DataFrame(\n",
    "    [[1, 1, 1]] * df.shape[0],\n",
    "    columns=mclasses.keys()\n",
    ")\n",
    "filter_msets(df, filter_df, mclasses)\n",
    "\n",
    "makedirs(join(mtl_dir), exist_ok=True)\n",
    "save_toml(join(mtl_dir, f'{name}.toml'), mclasses)\n",
    "filter_df.to_csv(join(mtl_dir, f'{name}.csv'), index=False)"
   ]
  },
  {
   "attachments": {},
   "cell_type": "markdown",
   "metadata": {},
   "source": [
    "## Explore"
   ]
  },
  {
   "cell_type": "code",
   "execution_count": null,
   "metadata": {
    "execution": {
     "iopub.execute_input": "2024-05-15T01:18:10.375046Z",
     "iopub.status.busy": "2024-05-15T01:18:10.374924Z",
     "iopub.status.idle": "2024-05-15T01:18:10.387768Z",
     "shell.execute_reply": "2024-05-15T01:18:10.387413Z"
    }
   },
   "outputs": [],
   "source": [
    "print(f'Total {df.shape[0]}')\n",
    "print(df['dataset'].value_counts())"
   ]
  },
  {
   "attachments": {},
   "cell_type": "markdown",
   "metadata": {},
   "source": [
    "Compute total dataframe:"
   ]
  },
  {
   "cell_type": "code",
   "execution_count": null,
   "metadata": {
    "execution": {
     "iopub.execute_input": "2024-05-15T01:18:10.409582Z",
     "iopub.status.busy": "2024-05-15T01:18:10.409400Z",
     "iopub.status.idle": "2024-05-15T01:18:10.438805Z",
     "shell.execute_reply": "2024-05-15T01:18:10.438407Z"
    }
   },
   "outputs": [],
   "source": [
    "# group by dataset\n",
    "paths = list(df.columns[5:])\n",
    "ds_sum_df = df[['dataset'] + paths].groupby('dataset').sum().astype(int)\n",
    "# sorted pathologies and datasets sseries\n",
    "ds_sum_sr = ds_sum_df.sum(axis=1).sort_values(ascending=False)\n",
    "pt_sum_sr = ds_sum_df.sum(axis=0).sort_values(ascending=False)\n",
    "# sort grouped df\n",
    "ds_sum_df = ds_sum_df.reindex(list(ds_sum_sr.index))\n",
    "ds_sum_df = ds_sum_df[list(pt_sum_sr.index)]\n",
    "\n",
    "# total df\n",
    "total_df = ds_sum_df.copy()\n",
    "total_df.loc[:, 'total'] = total_df.sum(axis=1)\n",
    "total_df.loc['total', :] = total_df.sum(axis=0)\n",
    "total_df = total_df.astype(int)"
   ]
  },
  {
   "cell_type": "code",
   "execution_count": null,
   "metadata": {
    "execution": {
     "iopub.execute_input": "2024-05-15T01:18:10.440485Z",
     "iopub.status.busy": "2024-05-15T01:18:10.440350Z",
     "iopub.status.idle": "2024-05-15T01:18:10.630893Z",
     "shell.execute_reply": "2024-05-15T01:18:10.630523Z"
    }
   },
   "outputs": [],
   "source": [
    "ds_sum_df.T.plot.barh(stacked=True, figsize=(10, 5),\n",
    "                      color=sns.color_palette('deep'))"
   ]
  },
  {
   "cell_type": "code",
   "execution_count": null,
   "metadata": {
    "execution": {
     "iopub.execute_input": "2024-05-15T01:18:10.632385Z",
     "iopub.status.busy": "2024-05-15T01:18:10.632236Z",
     "iopub.status.idle": "2024-05-15T01:18:10.637827Z",
     "shell.execute_reply": "2024-05-15T01:18:10.637532Z"
    }
   },
   "outputs": [],
   "source": [
    "total_df.T.iloc[::-1]"
   ]
  },
  {
   "attachments": {},
   "cell_type": "markdown",
   "metadata": {},
   "source": [
    "### Partition"
   ]
  },
  {
   "cell_type": "code",
   "execution_count": null,
   "metadata": {
    "execution": {
     "iopub.execute_input": "2024-05-15T01:18:10.639205Z",
     "iopub.status.busy": "2024-05-15T01:18:10.639093Z",
     "iopub.status.idle": "2024-05-15T01:18:10.644361Z",
     "shell.execute_reply": "2024-05-15T01:18:10.644135Z"
    }
   },
   "outputs": [],
   "source": [
    "mtrn, mval, mtst = MCLASSES.values()\n",
    "mset = total_df[mtrn + mval + mtst].T\n",
    "mset_vals = ['mtrn'] * len(mtrn) + ['mval'] * len(mval) + ['mtst'] * len(mtst)\n",
    "mset.insert(0, 'mset', mset_vals)\n",
    "mset"
   ]
  },
  {
   "cell_type": "code",
   "execution_count": null,
   "metadata": {
    "execution": {
     "iopub.execute_input": "2024-05-15T01:18:10.645869Z",
     "iopub.status.busy": "2024-05-15T01:18:10.645627Z",
     "iopub.status.idle": "2024-05-15T01:18:10.649836Z",
     "shell.execute_reply": "2024-05-15T01:18:10.649611Z"
    }
   },
   "outputs": [],
   "source": [
    "mset.groupby('mset', sort=False).sum()"
   ]
  },
  {
   "cell_type": "code",
   "execution_count": null,
   "metadata": {
    "execution": {
     "iopub.execute_input": "2024-05-15T01:18:10.651124Z",
     "iopub.status.busy": "2024-05-15T01:18:10.651012Z",
     "iopub.status.idle": "2024-05-15T01:18:10.655955Z",
     "shell.execute_reply": "2024-05-15T01:18:10.655727Z"
    }
   },
   "outputs": [],
   "source": [
    "ds_sum_df"
   ]
  },
  {
   "cell_type": "code",
   "execution_count": null,
   "metadata": {
    "execution": {
     "iopub.execute_input": "2024-05-15T01:18:10.657380Z",
     "iopub.status.busy": "2024-05-15T01:18:10.657185Z",
     "iopub.status.idle": "2024-05-15T01:18:10.834588Z",
     "shell.execute_reply": "2024-05-15T01:18:10.834248Z"
    }
   },
   "outputs": [],
   "source": [
    "ds_sum_df.T.plot.barh(stacked=True, figsize=(10, 5),\n",
    "                      color=sns.color_palette('deep'))"
   ]
  },
  {
   "cell_type": "code",
   "execution_count": null,
   "metadata": {
    "execution": {
     "iopub.execute_input": "2024-05-15T01:18:10.836114Z",
     "iopub.status.busy": "2024-05-15T01:18:10.835960Z",
     "iopub.status.idle": "2024-05-15T01:18:10.839340Z",
     "shell.execute_reply": "2024-05-15T01:18:10.839111Z"
    }
   },
   "outputs": [],
   "source": [
    "ds_sum_df.sum(axis=0)"
   ]
  },
  {
   "cell_type": "code",
   "execution_count": null,
   "metadata": {
    "execution": {
     "iopub.execute_input": "2024-05-15T01:18:10.840767Z",
     "iopub.status.busy": "2024-05-15T01:18:10.840593Z",
     "iopub.status.idle": "2024-05-15T01:18:11.159350Z",
     "shell.execute_reply": "2024-05-15T01:18:11.159029Z"
    }
   },
   "outputs": [],
   "source": [
    "import matplotlib.pyplot as plt\n",
    "\n",
    "def plot_metasets(ds, mclasses, figsize=(8, 5)):\n",
    "    titles = ['Meta-Train (Seen) ', 'Meta-Val (Unseen) ', 'Meta-Test (Unseen) ']\n",
    "    fig, axs = plt.subplots(\n",
    "        nrows=len(mclasses), ncols=1, tight_layout=True,\n",
    "        gridspec_kw={'height_ratios': [len(mset) for mset in mclasses]},\n",
    "        figsize=figsize,\n",
    "    )\n",
    "    for mset, title, ax in zip(mclasses, titles, axs):\n",
    "        ds_mset = ds[mset]\n",
    "        cols = {col: col.replace('_', ' ').capitalize() for col in ds_mset.columns}\n",
    "        idxs = {'chexpert': 'CheXpert', 'mimic': 'MIMIC', 'chestxray14': 'ChestX-ray14', 'padchest': 'PadChest'}\n",
    "        ds_mset = ds_mset.rename(columns=cols, index=idxs)\n",
    "        ax = ds_mset.T.plot.barh(stacked=True, width=0.8, ax=ax,\n",
    "                                 color=sns.color_palette('deep'))\n",
    "        ax.set_xticks([],[])\n",
    "        ax.set_title(title, fontsize=10, loc='right', y=1.0, pad=-14)\n",
    "        if 'Test' in title:\n",
    "            ax.legend(loc='lower right', fontsize='small', labelspacing=0.25)\n",
    "        else:\n",
    "            ax.get_legend().remove()\n",
    "        ax.tick_params(axis='y', which='major', labelsize='small')\n",
    "    xticks = [x for x in range(10000, 130001, 10000)]\n",
    "    ax.set_xticks(xticks, [f'{x//10000}k' for x in xticks], fontsize=7)\n",
    "\n",
    "plot_metasets(ds_sum_df, MCLASSES.values())"
   ]
  }
 ],
 "metadata": {
  "kernelspec": {
   "display_name": "meta-cxr",
   "language": "python",
   "name": "python3"
  },
  "language_info": {
   "codemirror_mode": {
    "name": "ipython",
    "version": 3
   },
   "file_extension": ".py",
   "mimetype": "text/x-python",
   "name": "python",
   "nbconvert_exporter": "python",
   "pygments_lexer": "ipython3",
   "version": "3.12.3"
  }
 },
 "nbformat": 4,
 "nbformat_minor": 2
}
