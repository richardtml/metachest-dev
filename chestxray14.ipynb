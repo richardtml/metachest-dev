{
 "cells": [
  {
   "attachments": {},
   "cell_type": "markdown",
   "metadata": {},
   "source": [
    "# ChestX-ray14 CSV\n",
    "\n",
    "This notebook generates `chestxray14.csv` assuming the following are downloaded:\n",
    "\n",
    "* [ChestX-ray14 Images and metadata](https://nihcc.app.box.com/v/ChestXray-NIHCC/folder/36938765345)\n"
   ]
  },
  {
   "cell_type": "code",
   "execution_count": null,
   "metadata": {},
   "outputs": [],
   "source": [
    "from os.path import join\n",
    "\n",
    "import pandas as pd\n",
    "\n",
    "from common import read_toml\n",
    "from common import AGE_INTERVAL\n",
    "from common import CHESTXRAY14_PATHOLOGIES as PATHOLOGIES\n",
    "\n",
    "UNIQUE_STUDIES = False"
   ]
  },
  {
   "attachments": {},
   "cell_type": "markdown",
   "metadata": {},
   "source": [
    "### Listing files"
   ]
  },
  {
   "cell_type": "code",
   "execution_count": null,
   "metadata": {},
   "outputs": [],
   "source": [
    "config = read_toml('config.toml')\n",
    "base_dir = config['chestxray14_dir']\n",
    "!ls -hs1 {base_dir}"
   ]
  },
  {
   "cell_type": "markdown",
   "metadata": {},
   "source": [
    "### Generating CSV"
   ]
  },
  {
   "cell_type": "code",
   "execution_count": null,
   "metadata": {},
   "outputs": [],
   "source": [
    "data_csv_path = join(base_dir, 'Data_Entry_2017_v2020.csv.gz')\n",
    "data_df = pd.read_csv(data_csv_path, compression='gzip', low_memory=False)\n",
    "data_df"
   ]
  },
  {
   "cell_type": "code",
   "execution_count": null,
   "metadata": {},
   "outputs": [],
   "source": [
    "if UNIQUE_STUDIES:\n",
    "    data_df = data_df.groupby('Patient ID').first()\n",
    "    data_df"
   ]
  },
  {
   "attachments": {},
   "cell_type": "markdown",
   "metadata": {},
   "source": [
    "Filtering, formating and renaming columns:"
   ]
  },
  {
   "cell_type": "code",
   "execution_count": null,
   "metadata": {},
   "outputs": [],
   "source": [
    "new_data_df = data_df.rename(columns={\n",
    "    'Image Index': 'name',\n",
    "    'Finding Labels': 'labels',\n",
    "    'Patient Age': 'age',\n",
    "    'Patient Gender': 'sex',\n",
    "    'View Position': 'view',\n",
    "})\n",
    "print('Available views: ', new_data_df.view.unique())\n",
    "new_data_df = new_data_df[['name', 'age', 'sex', 'view', 'labels']]\n",
    "new_data_df = new_data_df[new_data_df['labels'] != 'No Finding']\n",
    "new_data_df = new_data_df[new_data_df['age'].between(*AGE_INTERVAL, inclusive='both')]\n",
    "new_data_df = new_data_df.reset_index(drop=True)\n",
    "new_data_df['name'] = new_data_df['name'].str[:-4]\n",
    "new_data_df['sex'] = new_data_df['sex'].str.lower()\n",
    "new_data_df['view'] = new_data_df['view'].str.lower()\n",
    "new_data_df['labels'] = new_data_df['labels'].str.lower()\n",
    "new_data_df"
   ]
  },
  {
   "attachments": {},
   "cell_type": "markdown",
   "metadata": {},
   "source": [
    "Build labels dataframe:"
   ]
  },
  {
   "cell_type": "code",
   "execution_count": null,
   "metadata": {},
   "outputs": [],
   "source": [
    "labels = {}\n",
    "labels_col = new_data_df['labels']\n",
    "for pathology in PATHOLOGIES:\n",
    "    mask = labels_col.str.contains(pathology)\n",
    "    labels[pathology] = mask.values.astype(int)\n",
    "\n",
    "labels_df = pd.DataFrame(labels)\n",
    "# join\n",
    "df = pd.concat([new_data_df, labels_df], axis=1)\n",
    "df = df[df[PATHOLOGIES].any(axis=1)]\n",
    "df = df.drop(['labels'], axis=1)\n",
    "df = df.reset_index(drop=True)\n",
    "df.insert(0, 'dataset', 'chestxray14', True)\n",
    "df"
   ]
  },
  {
   "attachments": {},
   "cell_type": "markdown",
   "metadata": {},
   "source": [
    "Remove images incorrectly labeled:"
   ]
  },
  {
   "cell_type": "code",
   "execution_count": null,
   "metadata": {},
   "outputs": [],
   "source": [
    "incorrect_images = [\n",
    "    '00009683_005',\n",
    "    '00001153_005',\n",
    "]\n",
    "df = df[~df['name'].isin(incorrect_images)]\n",
    "df = df.reset_index(drop=True)\n",
    "df"
   ]
  },
  {
   "attachments": {},
   "cell_type": "markdown",
   "metadata": {},
   "source": [
    " Check there are no normal examples:"
   ]
  },
  {
   "cell_type": "code",
   "execution_count": null,
   "metadata": {},
   "outputs": [],
   "source": [
    "df[(~df[PATHOLOGIES].astype(bool)).all(axis=1)]"
   ]
  },
  {
   "cell_type": "markdown",
   "metadata": {},
   "source": [
    "### Saving CSV"
   ]
  },
  {
   "cell_type": "code",
   "execution_count": null,
   "metadata": {},
   "outputs": [],
   "source": [
    "path = 'chestxray14.csv'\n",
    "df.to_csv(path, index=False)\n",
    "path"
   ]
  },
  {
   "attachments": {},
   "cell_type": "markdown",
   "metadata": {},
   "source": [
    "Overview:"
   ]
  },
  {
   "cell_type": "code",
   "execution_count": null,
   "metadata": {},
   "outputs": [],
   "source": [
    "print(f'Total: {df.shape[0]}')\n",
    "df[PATHOLOGIES].sum()"
   ]
  }
 ],
 "metadata": {
  "kernelspec": {
   "display_name": "meta-cxr",
   "language": "python",
   "name": "python3"
  },
  "language_info": {
   "codemirror_mode": {
    "name": "ipython",
    "version": 3
   },
   "file_extension": ".py",
   "mimetype": "text/x-python",
   "name": "python",
   "nbconvert_exporter": "python",
   "pygments_lexer": "ipython3",
   "version": "3.12.3"
  },
  "orig_nbformat": 4,
  "vscode": {
   "interpreter": {
    "hash": "8be9d0b6298693657d11520f515dcd8496e5801b052b98cac8157da46021e2e8"
   }
  }
 },
 "nbformat": 4,
 "nbformat_minor": 2
}
