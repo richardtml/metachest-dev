{
 "cells": [
  {
   "attachments": {},
   "cell_type": "markdown",
   "metadata": {},
   "source": [
    "# MetaChest\n",
    "\n",
    "This notebook generates `metachest.csv`.\n"
   ]
  },
  {
   "attachments": {},
   "cell_type": "markdown",
   "metadata": {},
   "source": [
    "\n",
    "### Generating CSV"
   ]
  },
  {
   "cell_type": "code",
   "execution_count": null,
   "metadata": {},
   "outputs": [],
   "source": [
    "from os.path import join\n",
    "\n",
    "import pandas as pd\n",
    "import seaborn as sns\n",
    "from matplotlib.ticker import EngFormatter\n",
    "\n",
    "from common import read_toml\n",
    "\n",
    "metachest_dir = read_toml('config.toml')['metachest_dir']"
   ]
  },
  {
   "attachments": {},
   "cell_type": "markdown",
   "metadata": {},
   "source": [
    "Check files are available:"
   ]
  },
  {
   "cell_type": "code",
   "execution_count": null,
   "metadata": {},
   "outputs": [],
   "source": [
    "ds_names = ('chestxray14', 'chexpert', 'mimic', 'padchest')\n",
    "df = pd.concat(\n",
    "    pd.read_csv(join(metachest_dir, f'{ds_name}.csv'))\n",
    "    for ds_name in ds_names\n",
    ")\n",
    "PATHOLOGIES = sorted(list(df.columns[5:]))\n",
    "df = df[list(df.columns[:5]) + PATHOLOGIES]\n",
    "df.head(10)"
   ]
  },
  {
   "cell_type": "markdown",
   "metadata": {},
   "source": [
    "General stats:"
   ]
  },
  {
   "cell_type": "code",
   "execution_count": null,
   "metadata": {},
   "outputs": [],
   "source": [
    "labels_df = df[PATHOLOGIES].fillna(0).astype(int)\n",
    "n_samples = labels_df.shape[0]\n",
    "n_labels = labels_df.sum().sum()\n",
    "label_cardinality = n_labels / n_samples\n",
    "label_density = (labels_df.sum(axis=1) / labels_df.shape[1]).sum() / n_samples\n",
    "print(\n",
    "    f\"Number of samples:\\t {n_samples}\",\n",
    "    f\"Number of labels:\\t {n_labels}\",\n",
    "    f\"Label cadinality:\\t {label_cardinality}\",\n",
    "    f\"Label density:\\t\\t {label_density}\",\n",
    "    sep='\\n'\n",
    ")"
   ]
  },
  {
   "cell_type": "markdown",
   "metadata": {},
   "source": [
    "Images per dataset:"
   ]
  },
  {
   "cell_type": "code",
   "execution_count": null,
   "metadata": {},
   "outputs": [],
   "source": [
    "df.groupby('dataset').count()['name']"
   ]
  },
  {
   "attachments": {},
   "cell_type": "markdown",
   "metadata": {},
   "source": [
    "Compute total dataframe:"
   ]
  },
  {
   "cell_type": "code",
   "execution_count": null,
   "metadata": {},
   "outputs": [],
   "source": [
    "# group by dataset\n",
    "ds_sum_df = df[['dataset'] + PATHOLOGIES].groupby('dataset').sum().astype(int)\n",
    "# sorted pathologies and datasets sseries\n",
    "ds_sum_sr = ds_sum_df.sum(axis=1).sort_values(ascending=False)\n",
    "pt_sum_sr = ds_sum_df.sum(axis=0).sort_values(ascending=False)\n",
    "# sort grouped df\n",
    "ds_sum_df = ds_sum_df.reindex(list(ds_sum_sr.index))\n",
    "ds_sum_df = ds_sum_df[list(pt_sum_sr.index)]\n",
    "\n",
    "# total df\n",
    "total_df = ds_sum_df.copy()\n",
    "total_df.loc[:, 'total'] = total_df.sum(axis=1)\n",
    "total_df.loc['total', :] = total_df.sum(axis=0)\n",
    "total_df = total_df.astype(int)"
   ]
  },
  {
   "attachments": {},
   "cell_type": "markdown",
   "metadata": {},
   "source": [
    "Distribution plot:"
   ]
  },
  {
   "cell_type": "code",
   "execution_count": null,
   "metadata": {},
   "outputs": [],
   "source": [
    "df_plot = ds_sum_df.T\n",
    "df_plot = df_plot.rename(columns={\n",
    "    'chestxray14': 'ChestX-ray14',\n",
    "    'chexpert': 'CheXpert',\n",
    "    'mimic': 'MIMIC',\n",
    "    'padchest': 'PadChest'\n",
    "})\n",
    "df_plot = df_plot.rename(index={\n",
    "    idx: idx.replace('_', ' ').capitalize()\n",
    "    for idx in df_plot.index\n",
    "})\n",
    "ax = df_plot.plot.barh(stacked=True, figsize=(8, 5),\n",
    "                       color=sns.color_palette('deep'))\n",
    "ax.xaxis.set_major_formatter(EngFormatter())\n",
    "ax.set_xlabel('Number of x-ray images')\n",
    "ax.xaxis.set_tick_params(labelsize=10)\n",
    "ax.legend(title='Dataset')"
   ]
  },
  {
   "cell_type": "code",
   "execution_count": null,
   "metadata": {},
   "outputs": [],
   "source": [
    "total_df.T"
   ]
  },
  {
   "attachments": {},
   "cell_type": "markdown",
   "metadata": {},
   "source": [
    "## Save"
   ]
  },
  {
   "cell_type": "code",
   "execution_count": null,
   "metadata": {},
   "outputs": [],
   "source": [
    "path = join(metachest_dir, 'metachest.csv')\n",
    "df.to_csv(path, index=False)\n",
    "path\n"
   ]
  }
 ],
 "metadata": {
  "kernelspec": {
   "display_name": "meta-cxr",
   "language": "python",
   "name": "python3"
  },
  "language_info": {
   "codemirror_mode": {
    "name": "ipython",
    "version": 3
   },
   "file_extension": ".py",
   "mimetype": "text/x-python",
   "name": "python",
   "nbconvert_exporter": "python",
   "pygments_lexer": "ipython3",
   "version": "3.12.3"
  }
 },
 "nbformat": 4,
 "nbformat_minor": 2
}
