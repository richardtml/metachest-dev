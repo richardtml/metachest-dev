{
 "cells": [
  {
   "attachments": {},
   "cell_type": "markdown",
   "metadata": {},
   "source": [
    "# Subdatasets Meta-Learning Distribution"
   ]
  },
  {
   "cell_type": "code",
   "execution_count": null,
   "metadata": {
    "execution": {
     "iopub.execute_input": "2025-09-17T00:33:35.793659Z",
     "iopub.status.busy": "2025-09-17T00:33:35.793517Z",
     "iopub.status.idle": "2025-09-17T00:33:36.529277Z",
     "shell.execute_reply": "2025-09-17T00:33:36.528781Z"
    }
   },
   "outputs": [],
   "source": [
    "import sys\n",
    "from os import makedirs\n",
    "from os.path import join\n",
    "\n",
    "import pandas as pd\n",
    "\n",
    "sys.path.append('../')\n",
    "from common import ALIASES, _filter_mset, plot_coocc, read_toml"
   ]
  },
  {
   "cell_type": "code",
   "execution_count": null,
   "metadata": {
    "execution": {
     "iopub.execute_input": "2025-09-17T00:33:36.531409Z",
     "iopub.status.busy": "2025-09-17T00:33:36.531165Z",
     "iopub.status.idle": "2025-09-17T00:33:36.921906Z",
     "shell.execute_reply": "2025-09-17T00:33:36.921437Z"
    }
   },
   "outputs": [],
   "source": [
    "config = read_toml('../config.toml')\n",
    "metachest_dir = config['metachest_dir']\n",
    "df = pd.read_csv(join(metachest_dir, 'metachest.csv'))\n",
    "\n",
    "mclasses = {'mtrn': config['mtrn'], 'mval': config['mval'], 'mtst': config['mtst']}\n",
    "mset_dfs = [_filter_mset(mset, mclasses, df) for mset in mclasses.keys()]\n",
    "\n",
    "distro_dir = join(metachest_dir, 'distro')\n",
    "makedirs(distro_dir, exist_ok=True)"
   ]
  },
  {
   "cell_type": "code",
   "execution_count": null,
   "metadata": {
    "execution": {
     "iopub.execute_input": "2025-09-17T00:33:36.923660Z",
     "iopub.status.busy": "2025-09-17T00:33:36.923503Z",
     "iopub.status.idle": "2025-09-17T00:33:40.892234Z",
     "shell.execute_reply": "2025-09-17T00:33:40.891909Z"
    }
   },
   "outputs": [],
   "source": [
    "datasets = df['dataset'].unique().tolist()\n",
    "for dataset in datasets:\n",
    "    mask = df['dataset'] == dataset\n",
    "    distro_df = pd.DataFrame({\n",
    "        'mtrn': [1] * mask.shape[0],\n",
    "        'mval': mask,\n",
    "        'mtst': mask,\n",
    "    }).astype(int)\n",
    "    path = join(distro_dir, f'ds_{dataset}.csv')\n",
    "    distro_df.to_csv(path, index=False)\n",
    "    print(path)\n",
    "    dataset_title = ALIASES[dataset]\n",
    "    for mset, mset_df in zip(mclasses.keys(), mset_dfs):\n",
    "        mask = distro_df[mset].astype(bool)\n",
    "        ds_mset_df = mset_df.loc[mask]\n",
    "        plot_coocc(dataset_title, mset, ds_mset_df.iloc[:, 5:])"
   ]
  },
  {
   "cell_type": "markdown",
   "metadata": {},
   "source": [
    "### No-finding"
   ]
  },
  {
   "cell_type": "code",
   "execution_count": null,
   "metadata": {
    "execution": {
     "iopub.execute_input": "2025-09-17T00:33:40.894015Z",
     "iopub.status.busy": "2025-09-17T00:33:40.893740Z",
     "iopub.status.idle": "2025-09-17T00:33:41.145422Z",
     "shell.execute_reply": "2025-09-17T00:33:41.145100Z"
    }
   },
   "outputs": [],
   "source": [
    "nf_df = pd.read_csv(join(metachest_dir, 'metachest_nf.csv'))\n",
    "\n",
    "for dataset in datasets:\n",
    "    nf_distro = ( (nf_df.mset == 0) |\n",
    "                 ((nf_df.mset == 1) & (nf_df.dataset == dataset)) |\n",
    "                 ((nf_df.mset == 2) & (nf_df.dataset == dataset)))\n",
    "    nf_distro = nf_distro.rename('mask').to_frame().astype(int)\n",
    "    path = join(distro_dir, f'ds_{dataset}_nf.csv')\n",
    "    nf_distro.to_csv(path, index=False)\n",
    "    print(path)"
   ]
  }
 ],
 "metadata": {
  "kernelspec": {
   "display_name": "metachest",
   "language": "python",
   "name": "python3"
  },
  "language_info": {
   "codemirror_mode": {
    "name": "ipython",
    "version": 3
   },
   "file_extension": ".py",
   "mimetype": "text/x-python",
   "name": "python",
   "nbconvert_exporter": "python",
   "pygments_lexer": "ipython3",
   "version": "3.12.3"
  }
 },
 "nbformat": 4,
 "nbformat_minor": 2
}
