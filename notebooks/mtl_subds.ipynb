{
 "cells": [
  {
   "attachments": {},
   "cell_type": "markdown",
   "metadata": {},
   "source": [
    "# Subdatasets Meta-Learning Distribution"
   ]
  },
  {
   "cell_type": "code",
   "execution_count": null,
   "metadata": {},
   "outputs": [],
   "source": [
    "from os import makedirs\n",
    "from os.path import join\n",
    "\n",
    "import pandas as pd\n",
    "\n",
    "from common import ALIASES, _filter_mset, plot_coocc, read_toml"
   ]
  },
  {
   "cell_type": "code",
   "execution_count": null,
   "metadata": {},
   "outputs": [],
   "source": [
    "config = read_toml('config.toml')\n",
    "metachest_dir = config['metachest_dir']\n",
    "df = pd.read_csv(join(metachest_dir, 'metachest.csv'))\n",
    "\n",
    "mclasses = {'mtrn': config['mtrn'], 'mval': config['mval'], 'mtst': config['mtst']}\n",
    "mset_dfs = [_filter_mset(mset, mclasses, df) for mset in mclasses.keys()]\n",
    "\n",
    "distro_dir = join(metachest_dir, 'distro')\n",
    "makedirs(distro_dir, exist_ok=True)"
   ]
  },
  {
   "cell_type": "code",
   "execution_count": null,
   "metadata": {},
   "outputs": [],
   "source": [
    "datasets = df['dataset'].unique().tolist()\n",
    "for dataset in datasets:\n",
    "    mask = df['dataset'] == dataset\n",
    "    distro_df = pd.DataFrame({\n",
    "        'mtrn': [1] * mask.shape[0],\n",
    "        'mval': mask,\n",
    "        'mtst': mask,\n",
    "    }).astype(int)\n",
    "    path = join(distro_dir, f'ds_{dataset}.csv')\n",
    "    distro_df.to_csv(path, index=False)\n",
    "    print(path)\n",
    "    dataset_title = ALIASES[dataset]\n",
    "    for mset, mset_df in zip(mclasses.keys(), mset_dfs):\n",
    "        mask = distro_df[mset].astype(bool)\n",
    "        ds_mset_df = mset_df.loc[mask]\n",
    "        plot_coocc(dataset_title, mset, ds_mset_df.iloc[:, 5:])"
   ]
  },
  {
   "cell_type": "markdown",
   "metadata": {},
   "source": [
    "### No-finding"
   ]
  },
  {
   "cell_type": "code",
   "execution_count": null,
   "metadata": {},
   "outputs": [],
   "source": [
    "nf_df = pd.read_csv(join(metachest_dir, 'metachest_nf.csv'))\n",
    "\n",
    "for dataset in datasets:\n",
    "    nf_distro = ( (nf_df.mset == 0) |\n",
    "                 ((nf_df.mset == 1) & (nf_df.dataset == dataset)) |\n",
    "                 ((nf_df.mset == 2) & (nf_df.dataset == dataset)))\n",
    "    nf_distro = nf_distro.rename('mask').to_frame().astype(int)\n",
    "    path = join(distro_dir, f'ds_{dataset}_nf.csv')\n",
    "    nf_distro.to_csv(path, index=False)\n",
    "    print(path)"
   ]
  }
 ],
 "metadata": {
  "kernelspec": {
   "display_name": "metachest",
   "language": "python",
   "name": "python3"
  },
  "language_info": {
   "codemirror_mode": {
    "name": "ipython",
    "version": 3
   },
   "file_extension": ".py",
   "mimetype": "text/x-python",
   "name": "python",
   "nbconvert_exporter": "python",
   "pygments_lexer": "ipython3",
   "version": "3.12.3"
  }
 },
 "nbformat": 4,
 "nbformat_minor": 2
}
