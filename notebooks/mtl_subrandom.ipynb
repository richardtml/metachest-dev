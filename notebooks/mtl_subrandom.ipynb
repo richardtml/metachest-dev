{
 "cells": [
  {
   "attachments": {},
   "cell_type": "markdown",
   "metadata": {},
   "source": [
    "# Subdataset with random sampling"
   ]
  },
  {
   "cell_type": "code",
   "execution_count": null,
   "metadata": {},
   "outputs": [],
   "source": [
    "from os import makedirs\n",
    "from os.path import join\n",
    "\n",
    "import numpy as np\n",
    "import pandas as pd\n",
    "\n",
    "\n",
    "from common import ALIASES, _filter_mset, read_toml"
   ]
  },
  {
   "cell_type": "code",
   "execution_count": null,
   "metadata": {},
   "outputs": [],
   "source": [
    "config = read_toml('config.toml')\n",
    "metachest_dir = config['metachest_dir']\n",
    "df = pd.read_csv(join(metachest_dir, 'metachest.csv'))\n",
    "\n",
    "mclasses = {'mtrn': config['mtrn'], 'mval': config['mval'], 'mtst': config['mtst']}\n",
    "mset_dfs = [_filter_mset(mset, mclasses, df) for mset in mclasses.keys()]\n",
    "\n",
    "distro_dir = join(metachest_dir, 'distro')\n",
    "makedirs(distro_dir, exist_ok=True)"
   ]
  },
  {
   "cell_type": "code",
   "execution_count": null,
   "metadata": {},
   "outputs": [],
   "source": [
    "\n",
    "def random_01(n, ones_pct=0.75):\n",
    "    ones_n = int(n * ones_pct)\n",
    "    nums = np.zeros(n, dtype=int)\n",
    "    nums[:ones_n] = 1\n",
    "    np.random.shuffle(nums)\n",
    "    return nums\n",
    "\n",
    "ptc = 0.75\n",
    "ptc_str = f'{ptc:.2f}'[2:]\n",
    "\n",
    "rand_mask = random_01(df.shape[0], ptc)\n",
    "np.random.seed(0)\n",
    "distro_df = pd.DataFrame({\n",
    "    'mtrn': [1] * df.shape[0],\n",
    "    'mval': rand_mask,\n",
    "    'mtst': rand_mask\n",
    "}).astype(int)\n",
    "\n",
    "path = join(distro_dir, f'sub_random_{ptc_str}.csv')\n",
    "distro_df.to_csv(path, index=False)\n",
    "print(path)\n"
   ]
  },
  {
   "cell_type": "markdown",
   "metadata": {},
   "source": [
    "### No-finding"
   ]
  },
  {
   "cell_type": "code",
   "execution_count": null,
   "metadata": {},
   "outputs": [],
   "source": [
    "nf_df = pd.read_csv(join(metachest_dir, 'metachest_nf.csv'))\n",
    "\n",
    "rand_mask = random_01(nf_df.shape[0], ptc)\n",
    "nf_distro = ( (nf_df.mset == 0) |\n",
    "             ((nf_df.mset == 1) & rand_mask) |\n",
    "             ((nf_df.mset == 2) & rand_mask) )\n",
    "nf_distro = nf_distro.rename('mask').to_frame().astype(int)\n",
    "path = join(distro_dir, f'sub_random_{ptc_str}_nf.csv')\n",
    "nf_distro.to_csv(path, index=False)\n",
    "print(path)"
   ]
  }
 ],
 "metadata": {
  "kernelspec": {
   "display_name": "metachest",
   "language": "python",
   "name": "python3"
  },
  "language_info": {
   "codemirror_mode": {
    "name": "ipython",
    "version": 3
   },
   "file_extension": ".py",
   "mimetype": "text/x-python",
   "name": "python",
   "nbconvert_exporter": "python",
   "pygments_lexer": "ipython3",
   "version": "3.12.3"
  }
 },
 "nbformat": 4,
 "nbformat_minor": 2
}
