{
 "cells": [
  {
   "attachments": {},
   "cell_type": "markdown",
   "metadata": {},
   "source": [
    "# ChestX-ray14 CSV\n",
    "\n",
    "This notebook generates `chestxray14.csv` and `chestxray14_nf.csv` assuming the following are downloaded:\n",
    "\n",
    "* [ChestX-ray14 Images and metadata](https://nihcc.app.box.com/v/ChestXray-NIHCC/folder/36938765345)\n"
   ]
  },
  {
   "cell_type": "code",
   "execution_count": null,
   "metadata": {},
   "outputs": [],
   "source": [
    "import sys\n",
    "from os.path import join\n",
    "\n",
    "import pandas as pd\n",
    "\n",
    "sys.path.append('../')\n",
    "from common import read_toml\n",
    "from common import AGE_INTERVAL\n",
    "from common import CHESTXRAY14_PATHOLOGIES as PATHOLOGIES\n",
    "\n",
    "UNIQUE_STUDIES = False"
   ]
  },
  {
   "attachments": {},
   "cell_type": "markdown",
   "metadata": {},
   "source": [
    "### Listing files"
   ]
  },
  {
   "cell_type": "code",
   "execution_count": null,
   "metadata": {},
   "outputs": [],
   "source": [
    "ds_name = 'chestxray14'\n",
    "config = read_toml('../config.toml')\n",
    "metachest_dir = config['metachest_dir']\n",
    "base_dir = config[f'{ds_name}_dir']\n",
    "!ls -hs1 {base_dir}"
   ]
  },
  {
   "cell_type": "markdown",
   "metadata": {},
   "source": [
    "### Generating CSV"
   ]
  },
  {
   "cell_type": "code",
   "execution_count": null,
   "metadata": {},
   "outputs": [],
   "source": [
    "data_csv_path = join(base_dir, 'Data_Entry_2017_v2020.csv')\n",
    "data_df = pd.read_csv(data_csv_path)\n",
    "data_df"
   ]
  },
  {
   "cell_type": "code",
   "execution_count": null,
   "metadata": {},
   "outputs": [],
   "source": [
    "if UNIQUE_STUDIES:\n",
    "    data_df = data_df.groupby('Patient ID').first()\n",
    "    data_df"
   ]
  },
  {
   "attachments": {},
   "cell_type": "markdown",
   "metadata": {},
   "source": [
    "Filtering, formating and renaming columns:"
   ]
  },
  {
   "cell_type": "code",
   "execution_count": null,
   "metadata": {},
   "outputs": [],
   "source": [
    "new_data_df = data_df.rename(columns={\n",
    "    'Image Index': 'name',\n",
    "    'Finding Labels': 'labels',\n",
    "    'Patient Age': 'age',\n",
    "    'Patient Gender': 'sex',\n",
    "    'View Position': 'view',\n",
    "})\n",
    "print('Available views: ', new_data_df.view.unique())\n",
    "new_data_df = new_data_df[['name', 'age', 'sex', 'view', 'labels']]\n",
    "# new_data_df = new_data_df[new_data_df['labels'] != 'No Finding']\n",
    "new_data_df = new_data_df[new_data_df['age'].between(*AGE_INTERVAL, inclusive='both')]\n",
    "new_data_df = new_data_df.reset_index(drop=True)\n",
    "new_data_df['name'] = new_data_df['name'].str[:-4]\n",
    "new_data_df['sex'] = new_data_df['sex'].str.lower()\n",
    "new_data_df['view'] = new_data_df['view'].str.lower()\n",
    "new_data_df['labels'] = new_data_df['labels'].str.lower()\n",
    "new_data_df"
   ]
  },
  {
   "attachments": {},
   "cell_type": "markdown",
   "metadata": {},
   "source": [
    "Build labels dataframe:"
   ]
  },
  {
   "cell_type": "code",
   "execution_count": null,
   "metadata": {},
   "outputs": [],
   "source": [
    "labels = {}\n",
    "labels_col = new_data_df['labels']\n",
    "for pathology in PATHOLOGIES:\n",
    "    mask = labels_col.str.contains(pathology)\n",
    "    labels[pathology] = mask.values.astype(int)\n",
    "\n",
    "labels_df = pd.DataFrame(labels)\n",
    "# join\n",
    "df = pd.concat([new_data_df, labels_df], axis=1)\n",
    "df = df.drop(['labels'], axis=1)\n",
    "df = df.reset_index(drop=True)\n",
    "df.insert(0, 'dataset', 'chestxray14', True)\n",
    "df"
   ]
  },
  {
   "attachments": {},
   "cell_type": "markdown",
   "metadata": {},
   "source": [
    "Remove images incorrectly labeled:"
   ]
  },
  {
   "cell_type": "code",
   "execution_count": null,
   "metadata": {},
   "outputs": [],
   "source": [
    "incorrect_images = [\n",
    "    '00009683_005',\n",
    "    '00001153_005',\n",
    "]\n",
    "df = df[~df['name'].isin(incorrect_images)]\n",
    "df = df.reset_index(drop=True)\n",
    "df"
   ]
  },
  {
   "cell_type": "code",
   "execution_count": null,
   "metadata": {},
   "outputs": [],
   "source": [
    "wf_df = df[df[PATHOLOGIES].any(axis=1)]\n",
    "nf_df = df[~df[PATHOLOGIES].any(axis=1)]"
   ]
  },
  {
   "cell_type": "markdown",
   "metadata": {},
   "source": [
    "### Overview"
   ]
  },
  {
   "cell_type": "code",
   "execution_count": null,
   "metadata": {},
   "outputs": [],
   "source": [
    "print(\n",
    "    f'        Total: {df.shape[0]}\\n'\n",
    "    f'With findings: {wf_df.shape[0]:6d}\\n'\n",
    "    f'  No findings: {nf_df.shape[0]:6d}'\n",
    ")\n",
    "df[PATHOLOGIES].sum()"
   ]
  },
  {
   "cell_type": "markdown",
   "metadata": {},
   "source": [
    "### Saving\n"
   ]
  },
  {
   "cell_type": "markdown",
   "metadata": {},
   "source": [
    "With findings:"
   ]
  },
  {
   "cell_type": "code",
   "execution_count": null,
   "metadata": {},
   "outputs": [],
   "source": [
    "wf_filepath = join(metachest_dir, f'{ds_name}.csv')\n",
    "wf_df.to_csv(wf_filepath, index=False)\n",
    "wf_filepath"
   ]
  },
  {
   "cell_type": "markdown",
   "metadata": {},
   "source": [
    "No findings and MTL partition:"
   ]
  },
  {
   "cell_type": "code",
   "execution_count": null,
   "metadata": {},
   "outputs": [],
   "source": [
    "def generate_mtl_nf_partition(nf_df, seed=0, mset=(0, 1, 2)):\n",
    "    n_mtrn = 380503\n",
    "    n_mval = 6793\n",
    "    n_mtst = 209198\n",
    "    n_total = n_mtrn + n_mval + n_mtst\n",
    "    pct_mtrn = n_mtrn / n_total\n",
    "    pct_mval = n_mval / n_total\n",
    "    pct_mtst = n_mtst / n_total\n",
    "\n",
    "    nf_df = nf_df.iloc[:, :5]\n",
    "    nf_df = nf_df.sample(frac=1)\n",
    "\n",
    "    n_total = nf_df.shape[0]\n",
    "    n_mtrn = int(n_total * pct_mtrn)\n",
    "    n_mtst = int(n_total * pct_mtst)\n",
    "    n_mval = n_total - (n_mtrn + n_mtst)\n",
    "\n",
    "    mtrn_df = nf_df.iloc[:n_mtrn].copy()\n",
    "    mval_df = nf_df.iloc[n_mtrn:n_mtrn+n_mval].copy()\n",
    "    mtst_df = nf_df.iloc[n_mtrn+n_mval:].copy()\n",
    "    mtrn_df['mset'] = mset[0]\n",
    "    mval_df['mset'] = mset[1]\n",
    "    mtst_df['mset'] = mset[2]\n",
    "\n",
    "    nf_mtl_df = pd.concat([mtrn_df, mval_df, mtst_df])\n",
    "    nf_filepath = join(metachest_dir, f'{ds_name}_nf.csv')\n",
    "    nf_mtl_df.to_csv(nf_filepath, index=False)\n",
    "\n",
    "    final_pct_mtrn = mtrn_df.shape[0] / nf_mtl_df.shape[0]\n",
    "    final_pct_mval = mval_df.shape[0] / nf_mtl_df.shape[0]\n",
    "    final_pct_mtst = mtst_df.shape[0] / nf_mtl_df.shape[0]\n",
    "\n",
    "    print(f'Original: '\n",
    "        f'mtrn={pct_mtrn*100:5.2f}% '\n",
    "        f'mval={pct_mval*100:5.2f}% '\n",
    "        f'mtst={pct_mtst*100:5.2f}%\\n'\n",
    "        f'     New: '\n",
    "        f'mtrn={final_pct_mtrn*100:5.2f}% '\n",
    "        f'mval={final_pct_mval*100:5.2f}% '\n",
    "        f'mtst={final_pct_mtst*100:5.2f}%\\n'\n",
    "        f'     New: '\n",
    "        f'mtrn={mtrn_df.shape[0]} '\n",
    "        f'mval={mval_df.shape[0]} '\n",
    "        f'mtst={mtst_df.shape[0]}'\n",
    "    )\n",
    "\n",
    "    print(f'Saved to {nf_filepath}')\n",
    "\n",
    "\n",
    "generate_mtl_nf_partition(nf_df)\n"
   ]
  }
 ],
 "metadata": {
  "kernelspec": {
   "display_name": "metachest",
   "language": "python",
   "name": "python3"
  },
  "language_info": {
   "codemirror_mode": {
    "name": "ipython",
    "version": 3
   },
   "file_extension": ".py",
   "mimetype": "text/x-python",
   "name": "python",
   "nbconvert_exporter": "python",
   "pygments_lexer": "ipython3",
   "version": "3.12.3"
  }
 },
 "nbformat": 4,
 "nbformat_minor": 2
}
