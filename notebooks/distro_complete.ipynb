{
 "cells": [
  {
   "attachments": {},
   "cell_type": "markdown",
   "metadata": {},
   "source": [
    "# Complete Meta-Learning Distribution\n",
    "\n",
    "This notebook generates the complete meta-learning distribution for MetaChest."
   ]
  },
  {
   "cell_type": "code",
   "execution_count": null,
   "metadata": {
    "execution": {
     "iopub.execute_input": "2025-09-17T00:22:23.644766Z",
     "iopub.status.busy": "2025-09-17T00:22:23.644608Z",
     "iopub.status.idle": "2025-09-17T00:22:24.348038Z",
     "shell.execute_reply": "2025-09-17T00:22:24.347597Z"
    }
   },
   "outputs": [],
   "source": [
    "import sys\n",
    "from os.path import join\n",
    "\n",
    "import matplotlib.pyplot as plt\n",
    "import pandas as pd\n",
    "import seaborn as sns\n",
    "\n",
    "sys.path.append('../')\n",
    "from common import ALIASES, _filter_mset, plot_venn, plot_coocc, read_toml"
   ]
  },
  {
   "attachments": {},
   "cell_type": "markdown",
   "metadata": {},
   "source": [
    "## Generate"
   ]
  },
  {
   "cell_type": "code",
   "execution_count": null,
   "metadata": {
    "execution": {
     "iopub.execute_input": "2025-09-17T00:22:24.349804Z",
     "iopub.status.busy": "2025-09-17T00:22:24.349619Z",
     "iopub.status.idle": "2025-09-17T00:22:24.354159Z",
     "shell.execute_reply": "2025-09-17T00:22:24.353711Z"
    }
   },
   "outputs": [],
   "source": [
    "config = read_toml('../config.toml')\n",
    "mclasses = {'mtrn': config['mtrn'], 'mval': config['mval'], 'mtst': config['mtst']}\n",
    "mclasses"
   ]
  },
  {
   "cell_type": "code",
   "execution_count": null,
   "metadata": {
    "execution": {
     "iopub.execute_input": "2025-09-17T00:22:24.375588Z",
     "iopub.status.busy": "2025-09-17T00:22:24.375405Z",
     "iopub.status.idle": "2025-09-17T00:22:24.727060Z",
     "shell.execute_reply": "2025-09-17T00:22:24.726667Z"
    }
   },
   "outputs": [],
   "source": [
    "df = pd.read_csv(join(config['metachest_dir'], 'metachest.csv'))\n",
    "df.head()"
   ]
  },
  {
   "attachments": {},
   "cell_type": "markdown",
   "metadata": {},
   "source": [
    "## Exploration"
   ]
  },
  {
   "cell_type": "code",
   "execution_count": null,
   "metadata": {
    "execution": {
     "iopub.execute_input": "2025-09-17T00:22:24.728551Z",
     "iopub.status.busy": "2025-09-17T00:22:24.728430Z",
     "iopub.status.idle": "2025-09-17T00:22:24.741381Z",
     "shell.execute_reply": "2025-09-17T00:22:24.741039Z"
    }
   },
   "outputs": [],
   "source": [
    "print(f'Total {df.shape[0]}')\n",
    "print(df['dataset'].value_counts())"
   ]
  },
  {
   "attachments": {},
   "cell_type": "markdown",
   "metadata": {},
   "source": [
    "Compute total dataframe:"
   ]
  },
  {
   "cell_type": "code",
   "execution_count": null,
   "metadata": {
    "execution": {
     "iopub.execute_input": "2025-09-17T00:22:24.742928Z",
     "iopub.status.busy": "2025-09-17T00:22:24.742801Z",
     "iopub.status.idle": "2025-09-17T00:22:24.775693Z",
     "shell.execute_reply": "2025-09-17T00:22:24.775261Z"
    }
   },
   "outputs": [],
   "source": [
    "# group by dataset\n",
    "paths = list(df.columns[5:])\n",
    "ds_sum_df = df[['dataset'] + paths].groupby('dataset').sum().astype(int)\n",
    "# sorted pathologies and datasets sseries\n",
    "ds_sum_sr = ds_sum_df.sum(axis=1).sort_values(ascending=False)\n",
    "pt_sum_sr = ds_sum_df.sum(axis=0).sort_values(ascending=False)\n",
    "# sort grouped df\n",
    "ds_sum_df = ds_sum_df.reindex(list(ds_sum_sr.index))\n",
    "ds_sum_df = ds_sum_df[list(pt_sum_sr.index)]\n",
    "\n",
    "# total df\n",
    "total_df = ds_sum_df.copy()\n",
    "total_df.loc[:, 'total'] = total_df.sum(axis=1)\n",
    "total_df.loc['total', :] = total_df.sum(axis=0)\n",
    "total_df = total_df.astype(int)"
   ]
  },
  {
   "cell_type": "code",
   "execution_count": null,
   "metadata": {
    "execution": {
     "iopub.execute_input": "2025-09-17T00:22:24.777472Z",
     "iopub.status.busy": "2025-09-17T00:22:24.777344Z",
     "iopub.status.idle": "2025-09-17T00:22:24.967779Z",
     "shell.execute_reply": "2025-09-17T00:22:24.967448Z"
    }
   },
   "outputs": [],
   "source": [
    "ds_sum_df.T.plot.barh(stacked=True, figsize=(10, 5),\n",
    "                      color=sns.color_palette('deep'))"
   ]
  },
  {
   "cell_type": "code",
   "execution_count": null,
   "metadata": {
    "execution": {
     "iopub.execute_input": "2025-09-17T00:22:24.969244Z",
     "iopub.status.busy": "2025-09-17T00:22:24.969092Z",
     "iopub.status.idle": "2025-09-17T00:22:24.974147Z",
     "shell.execute_reply": "2025-09-17T00:22:24.973824Z"
    }
   },
   "outputs": [],
   "source": [
    "total_df.T.iloc[::-1]"
   ]
  },
  {
   "attachments": {},
   "cell_type": "markdown",
   "metadata": {},
   "source": [
    "### MTL Setup"
   ]
  },
  {
   "cell_type": "code",
   "execution_count": null,
   "metadata": {
    "execution": {
     "iopub.execute_input": "2025-09-17T00:22:24.975533Z",
     "iopub.status.busy": "2025-09-17T00:22:24.975393Z",
     "iopub.status.idle": "2025-09-17T00:22:24.981187Z",
     "shell.execute_reply": "2025-09-17T00:22:24.980951Z"
    }
   },
   "outputs": [],
   "source": [
    "mtrn, mval, mtst = mclasses.values()\n",
    "mset_vals = ['mtrn'] * len(mtrn) + ['mval'] * len(mval) + ['mtst'] * len(mtst)\n",
    "mset_df = total_df[mtrn + mval + mtst].T\n",
    "mset_df.insert(0, 'mset', mset_vals)\n",
    "mset_df"
   ]
  },
  {
   "cell_type": "code",
   "execution_count": null,
   "metadata": {
    "execution": {
     "iopub.execute_input": "2025-09-17T00:22:24.982507Z",
     "iopub.status.busy": "2025-09-17T00:22:24.982396Z",
     "iopub.status.idle": "2025-09-17T00:22:24.986847Z",
     "shell.execute_reply": "2025-09-17T00:22:24.986612Z"
    }
   },
   "outputs": [],
   "source": [
    "mset_df.groupby('mset', sort=False).sum()"
   ]
  },
  {
   "cell_type": "markdown",
   "metadata": {},
   "source": [
    "Distribution per meta-set"
   ]
  },
  {
   "cell_type": "code",
   "execution_count": null,
   "metadata": {
    "execution": {
     "iopub.execute_input": "2025-09-17T00:22:24.988305Z",
     "iopub.status.busy": "2025-09-17T00:22:24.988066Z",
     "iopub.status.idle": "2025-09-17T00:22:25.308423Z",
     "shell.execute_reply": "2025-09-17T00:22:25.308035Z"
    }
   },
   "outputs": [],
   "source": [
    "def plot_metasets(df, mclasses, figsize=(8, 5)):\n",
    "    titles = ['Meta-Train (Seen) ', 'Meta-Val (Unseen) ', 'Meta-Test (Unseen) ']\n",
    "    fig, axs = plt.subplots(\n",
    "        nrows=len(mclasses), ncols=1, tight_layout=True,\n",
    "        gridspec_kw={'height_ratios': [len(mset) for mset in mclasses]},\n",
    "        figsize=figsize,\n",
    "    )\n",
    "    for mset, title, ax in zip(mclasses, titles, axs):\n",
    "        ds_mset = df[mset]\n",
    "        cols = {col: col.replace('_', ' ').capitalize() for col in ds_mset.columns}\n",
    "        idxs = {'chexpert': 'CheXpert', 'mimic': 'MIMIC', 'chestxray14': 'ChestX-ray14', 'padchest': 'PadChest'}\n",
    "        ds_mset = ds_mset.rename(columns=cols, index=idxs)\n",
    "        ax = ds_mset.T.plot.barh(stacked=True, width=0.8, ax=ax,\n",
    "                                 color=sns.color_palette('deep'))\n",
    "        ax.set_xticks([],[])\n",
    "        ax.set_title(title, fontsize=10, loc='right', y=1.0, pad=-14)\n",
    "        ax.set_xlim(0, 130000)\n",
    "        if 'Test' in title:\n",
    "            ax.legend(loc='lower right', fontsize='small', labelspacing=0.25)\n",
    "        else:\n",
    "            ax.get_legend().remove()\n",
    "        ax.tick_params(axis='y', which='major', labelsize='small')\n",
    "    xticks = [x for x in range(10000, 130001, 10000)]\n",
    "    ax.set_xticks(xticks, [f'{x//10000}k' for x in xticks], fontsize=7)\n",
    "\n",
    "plot_metasets(ds_sum_df, mclasses.values())"
   ]
  },
  {
   "cell_type": "markdown",
   "metadata": {},
   "source": [
    "Plot correlation matrices per meta-set."
   ]
  },
  {
   "cell_type": "code",
   "execution_count": null,
   "metadata": {
    "execution": {
     "iopub.execute_input": "2025-09-17T00:22:25.310000Z",
     "iopub.status.busy": "2025-09-17T00:22:25.309852Z",
     "iopub.status.idle": "2025-09-17T00:22:26.285001Z",
     "shell.execute_reply": "2025-09-17T00:22:26.284650Z"
    }
   },
   "outputs": [],
   "source": [
    "for mset in ('mtrn', 'mval', 'mtst'):\n",
    "    mset_df = _filter_mset(mset, mclasses, df)\n",
    "    plot_venn(mset)\n",
    "    plot_coocc('MetaChest', mset, mset_df.iloc[:, 5:])"
   ]
  },
  {
   "cell_type": "markdown",
   "metadata": {},
   "source": [
    "## Unused data "
   ]
  },
  {
   "cell_type": "code",
   "execution_count": null,
   "metadata": {
    "execution": {
     "iopub.execute_input": "2025-09-17T00:22:26.286573Z",
     "iopub.status.busy": "2025-09-17T00:22:26.286445Z",
     "iopub.status.idle": "2025-09-17T00:22:26.340884Z",
     "shell.execute_reply": "2025-09-17T00:22:26.340618Z"
    }
   },
   "outputs": [],
   "source": [
    "def compute_unused():\n",
    "    from matplotlib_venn import venn3\n",
    "    plt.figure(figsize=(2, 2))\n",
    "    diagram = venn3((1, 1, 1, 1, 1, 1, 1),\n",
    "                    set_labels=('mval\\nclasses',\n",
    "                                'mtst\\nclasses',\n",
    "                                'mtrn\\nclasses'))\n",
    "    for sid in (\"100\", \"010\", \"110\", \"001\", \"101\", \"011\", \"111\"):\n",
    "        diagram.get_label_by_id(sid).set_text('')\n",
    "        diagram.get_patch_by_id(sid).set_color('white')\n",
    "\n",
    "    color = 'grey'\n",
    "    diagram.get_patch_by_id('110').set_color(color)\n",
    "    diagram.get_patch_by_id('111').set_color(color)\n",
    "\n",
    "    for sid in (\"100\", \"010\",  \"001\", \"111\"):\n",
    "        diagram.get_patch_by_id(sid).set_edgecolor('black')\n",
    "\n",
    "    for i in range(3):\n",
    "        diagram.set_labels[i].set_fontsize('small')\n",
    "\n",
    "    plt.title('unused\\ndata')\n",
    "    plt.show()\n",
    "\n",
    "    mval_classes = mclasses['mval']\n",
    "    mtst_classes = mclasses['mtst']\n",
    "    mval_mask = df[mval_classes].any(axis=1)\n",
    "    mtst_mask = df[mtst_classes].any(axis=1)\n",
    "    unused_df = df[mval_mask & mtst_mask]\n",
    "\n",
    "    unused_count = unused_df[['dataset']].groupby(by='dataset')['dataset'].count()\n",
    "\n",
    "    print(f'Unused {unused_count.sum()}')\n",
    "    return unused_count\n",
    "\n",
    "compute_unused()\n"
   ]
  }
 ],
 "metadata": {
  "kernelspec": {
   "display_name": "metachest",
   "language": "python",
   "name": "python3"
  },
  "language_info": {
   "codemirror_mode": {
    "name": "ipython",
    "version": 3
   },
   "file_extension": ".py",
   "mimetype": "text/x-python",
   "name": "python",
   "nbconvert_exporter": "python",
   "pygments_lexer": "ipython3",
   "version": "3.12.3"
  }
 },
 "nbformat": 4,
 "nbformat_minor": 2
}
