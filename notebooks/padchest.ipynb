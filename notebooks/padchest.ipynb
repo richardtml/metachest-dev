{
 "cells": [
  {
   "attachments": {},
   "cell_type": "markdown",
   "metadata": {},
   "source": [
    "# PadChest CSV\n",
    "\n",
    "This notebook generates `padchest.csv` and `padchest_nf.csv` assuming the following are downloaded:\n",
    "\n",
    "* [PadChest](https://bimcv.cipf.es/bimcv-projects/padchest/) dataset\n"
   ]
  },
  {
   "cell_type": "code",
   "execution_count": null,
   "metadata": {
    "execution": {
     "iopub.execute_input": "2025-09-17T00:33:11.529850Z",
     "iopub.status.busy": "2025-09-17T00:33:11.529633Z",
     "iopub.status.idle": "2025-09-17T00:33:12.234030Z",
     "shell.execute_reply": "2025-09-17T00:33:12.233568Z"
    }
   },
   "outputs": [],
   "source": [
    "import sys\n",
    "from os.path import join\n",
    "\n",
    "import pandas as pd\n",
    "\n",
    "sys.path.append('../')\n",
    "from common import read_toml\n",
    "from common import AGE_INTERVAL\n",
    "from common import PADCHEST_PATHOLOGIES as PATHOLOGIES\n",
    "\n",
    "UNIQUE_STUDIES = False"
   ]
  },
  {
   "attachments": {},
   "cell_type": "markdown",
   "metadata": {},
   "source": [
    "### Listing files"
   ]
  },
  {
   "cell_type": "code",
   "execution_count": null,
   "metadata": {
    "execution": {
     "iopub.execute_input": "2025-09-17T00:33:12.235950Z",
     "iopub.status.busy": "2025-09-17T00:33:12.235745Z",
     "iopub.status.idle": "2025-09-17T00:33:12.351380Z",
     "shell.execute_reply": "2025-09-17T00:33:12.350861Z"
    }
   },
   "outputs": [],
   "source": [
    "ds_name = 'padchest'\n",
    "config = read_toml('../config.toml')\n",
    "metachest_dir = config['metachest_dir']\n",
    "base_dir = config[f'{ds_name}_dir']\n",
    "!ls -hs1 {base_dir}"
   ]
  },
  {
   "attachments": {},
   "cell_type": "markdown",
   "metadata": {},
   "source": [
    "### Generating CSV"
   ]
  },
  {
   "cell_type": "code",
   "execution_count": null,
   "metadata": {
    "execution": {
     "iopub.execute_input": "2025-09-17T00:33:12.353188Z",
     "iopub.status.busy": "2025-09-17T00:33:12.353053Z",
     "iopub.status.idle": "2025-09-17T00:33:13.835134Z",
     "shell.execute_reply": "2025-09-17T00:33:13.834709Z"
    }
   },
   "outputs": [],
   "source": [
    "padchest_df_path = join(base_dir, 'PADCHEST_chest_x_ray_images_labels_160K_01.02.19.csv.gz')\n",
    "padchest_df = pd.read_csv(padchest_df_path, index_col=0, compression='gzip', low_memory=False)\n",
    "padchest_df"
   ]
  },
  {
   "attachments": {},
   "cell_type": "markdown",
   "metadata": {},
   "source": [
    "Drop records with missing attributes:"
   ]
  },
  {
   "cell_type": "code",
   "execution_count": null,
   "metadata": {
    "execution": {
     "iopub.execute_input": "2025-09-17T00:33:13.836697Z",
     "iopub.status.busy": "2025-09-17T00:33:13.836564Z",
     "iopub.status.idle": "2025-09-17T00:33:13.881749Z",
     "shell.execute_reply": "2025-09-17T00:33:13.881342Z"
    }
   },
   "outputs": [],
   "source": [
    "original_size = len(padchest_df)\n",
    "padchest_df = padchest_df.dropna(\n",
    "    subset=['Projection',\n",
    "            'PatientSex_DICOM',\n",
    "            'PatientBirth',\n",
    "            'StudyDate_DICOM',\n",
    "            'Labels'])\n",
    "dropped_size = len(padchest_df)\n",
    "print(f'padchest_df size: original {original_size}, new {dropped_size}, dropped {original_size - dropped_size}')"
   ]
  },
  {
   "cell_type": "code",
   "execution_count": null,
   "metadata": {
    "execution": {
     "iopub.execute_input": "2025-09-17T00:33:13.883337Z",
     "iopub.status.busy": "2025-09-17T00:33:13.883201Z",
     "iopub.status.idle": "2025-09-17T00:33:13.885397Z",
     "shell.execute_reply": "2025-09-17T00:33:13.885126Z"
    }
   },
   "outputs": [],
   "source": [
    "if UNIQUE_STUDIES:\n",
    "    padchest_df = padchest_df.groupby('PatientID').first()"
   ]
  },
  {
   "attachments": {},
   "cell_type": "markdown",
   "metadata": {},
   "source": [
    "Build labels df and join:"
   ]
  },
  {
   "cell_type": "code",
   "execution_count": null,
   "metadata": {
    "execution": {
     "iopub.execute_input": "2025-09-17T00:33:13.886858Z",
     "iopub.status.busy": "2025-09-17T00:33:13.886707Z",
     "iopub.status.idle": "2025-09-17T00:33:14.556113Z",
     "shell.execute_reply": "2025-09-17T00:33:14.555772Z"
    }
   },
   "outputs": [],
   "source": [
    "# reset index to match with labels df\n",
    "padchest_df.reset_index(drop=True, inplace=True)\n",
    "\n",
    "aliases = {\n",
    "    'infiltration': {\n",
    "        'infiltrates',\n",
    "        'interstitial pattern',\n",
    "        'ground glass pattern',\n",
    "        'reticular interstitial pattern',\n",
    "        'reticulonodular interstitial pattern',\n",
    "        'alveolar pattern',\n",
    "        'consolidation',\n",
    "        'air bronchogram'\n",
    "    },\n",
    "    'pleural_thickening' : {\n",
    "        'pleural thickening'\n",
    "    }\n",
    "}\n",
    "\n",
    "labels = {}\n",
    "labels_col = padchest_df['Labels']\n",
    "for pathology in PATHOLOGIES:\n",
    "    mask = labels_col.str.contains(pathology)\n",
    "    pat_aliases = aliases.get(pathology, None)\n",
    "    if pat_aliases:\n",
    "        for pat_alias in pat_aliases:\n",
    "            mask |= labels_col.str.contains(pat_alias)\n",
    "    labels[pathology] = mask.values.astype(int)\n",
    "\n",
    "labels_df = pd.DataFrame(labels)\n",
    "# join\n",
    "df = pd.concat([padchest_df, labels_df], axis=1)\n",
    "df"
   ]
  },
  {
   "cell_type": "markdown",
   "metadata": {},
   "source": [
    "Rename columns and filter:"
   ]
  },
  {
   "cell_type": "code",
   "execution_count": null,
   "metadata": {
    "execution": {
     "iopub.execute_input": "2025-09-17T00:33:14.557730Z",
     "iopub.status.busy": "2025-09-17T00:33:14.557600Z",
     "iopub.status.idle": "2025-09-17T00:33:14.752549Z",
     "shell.execute_reply": "2025-09-17T00:33:14.752215Z"
    }
   },
   "outputs": [],
   "source": [
    "original_size = len(df)\n",
    "\n",
    "# rename cols\n",
    "df = df.rename(columns={\n",
    "    'ImageID': 'name',\n",
    "    'Projection': 'view',\n",
    "    'PatientSex_DICOM': 'sex',\n",
    "    'PatientBirth': 'birth_date',\n",
    "    'StudyDate_DICOM': 'study_date'\n",
    "})\n",
    "# keep views\n",
    "print('Available views: ', df.view.unique())\n",
    "df = df[df['view'].isin(['AP', 'PA', 'AP_horizontal'])]\n",
    "# compute age in the study\n",
    "df['age'] = df['study_date'].astype(str).str[:4].astype(int) - df['birth_date'].astype(int)\n",
    "df = df[df['age'].between(*AGE_INTERVAL, inclusive='both')]\n",
    "# keep cols\n",
    "df = df[['name', 'age', 'sex', 'view'] + PATHOLOGIES]\n",
    "\n",
    "# remove image extension\n",
    "df['name'] = df['name'].str[:-4]\n",
    "df['view'] = df['view'].replace('AP_horizontal','ap')\n",
    "df['sex'] = df['sex'].str.lower()\n",
    "df['view'] = df['view'].str.lower()\n",
    "\n",
    "df.insert(0, 'dataset', 'padchest', True)\n",
    "\n",
    "dropped_size = len(df)\n",
    "print(f'df size: original {original_size}, new {dropped_size}, dropped {original_size - dropped_size}')\n",
    "\n",
    "df"
   ]
  },
  {
   "attachments": {},
   "cell_type": "markdown",
   "metadata": {},
   "source": [
    "Removing records with wrong labels or corrupted images:"
   ]
  },
  {
   "cell_type": "code",
   "execution_count": null,
   "metadata": {
    "execution": {
     "iopub.execute_input": "2025-09-17T00:33:14.754131Z",
     "iopub.status.busy": "2025-09-17T00:33:14.753976Z",
     "iopub.status.idle": "2025-09-17T00:33:14.787506Z",
     "shell.execute_reply": "2025-09-17T00:33:14.787176Z"
    }
   },
   "outputs": [],
   "source": [
    "incorrect_labels = [\n",
    "    '216840111366964012558082906712010102112808556_03-181-172',\n",
    "]\n",
    "corrupted = [\n",
    "    # https://github.com/mlmed/torchxrayvision/blob/7879060cbe0a8172d8f91ddab786ba707fbfa5ec/torchxrayvision/datasets.py#L746\n",
    "    \"216840111366964012819207061112010307142602253_04-014-084\",\n",
    "    \"216840111366964012989926673512011074122523403_00-163-058\",\n",
    "    \"216840111366964012959786098432011033083840143_00-176-115\",\n",
    "    \"216840111366964012558082906712009327122220177_00-102-064\",\n",
    "    \"216840111366964012339356563862009072111404053_00-043-192\",\n",
    "    \"216840111366964013076187734852011291090445391_00-196-188\",\n",
    "    \"216840111366964012373310883942009117084022290_00-064-025\",\n",
    "    \"216840111366964012283393834152009033102258826_00-059-087\",\n",
    "    \"216840111366964012373310883942009170084120009_00-097-074\",\n",
    "    \"216840111366964012819207061112010315104455352_04-024-184\",\n",
    "    \"216840111366964012819207061112010306085429121_04-020-102\",\n",
    "    # truncated\n",
    "    '216840111366964013590140476722013058110301622_02-056-111',\n",
    "    '216840111366964013590140476722013043111952381_02-065-198',\n",
    "    '216840111366964013829543166512013353113303615_02-092-190',\n",
    "    '216840111366964012373310883942009180082307973_00-097-011',\n",
    "    # corruted nf\n",
    "    '216840111366964012989926673512011083134050913_00-168-009',\n",
    "    '216840111366964012989926673512011151082430686_00-157-045',\n",
    "    '216840111366964012487858717522009280135853083_00-075-001',\n",
    "    '216840111366964013962490064942014134093945580_01-178-104',\n",
    "    '216840111366964012373310883942009152114636712_00-102-045',\n",
    "    '216840111366964013686042548532013208193054515_02-026-007',\n",
    "]\n",
    "wrong = incorrect_labels + corrupted\n",
    "df = df[~df['name'].isin(wrong)]\n",
    "df = df.reset_index(drop=True)\n",
    "df"
   ]
  },
  {
   "cell_type": "code",
   "execution_count": null,
   "metadata": {
    "execution": {
     "iopub.execute_input": "2025-09-17T00:33:14.788937Z",
     "iopub.status.busy": "2025-09-17T00:33:14.788814Z",
     "iopub.status.idle": "2025-09-17T00:33:14.802468Z",
     "shell.execute_reply": "2025-09-17T00:33:14.802114Z"
    }
   },
   "outputs": [],
   "source": [
    "wf_df = df[df[PATHOLOGIES].any(axis=1)]\n",
    "nf_df = df[~df[PATHOLOGIES].any(axis=1)]"
   ]
  },
  {
   "cell_type": "markdown",
   "metadata": {},
   "source": [
    "### Overview"
   ]
  },
  {
   "cell_type": "code",
   "execution_count": null,
   "metadata": {
    "execution": {
     "iopub.execute_input": "2025-09-17T00:33:14.804030Z",
     "iopub.status.busy": "2025-09-17T00:33:14.803906Z",
     "iopub.status.idle": "2025-09-17T00:33:14.809378Z",
     "shell.execute_reply": "2025-09-17T00:33:14.809067Z"
    }
   },
   "outputs": [],
   "source": [
    "print(\n",
    "    f'        Total: {df.shape[0]}\\n'\n",
    "    f'With findings: {wf_df.shape[0]:5d}\\n'\n",
    "    f'  No findings: {nf_df.shape[0]:5d}'\n",
    ")\n",
    "df[PATHOLOGIES].sum()"
   ]
  },
  {
   "cell_type": "markdown",
   "metadata": {},
   "source": [
    "### Saving\n"
   ]
  },
  {
   "cell_type": "markdown",
   "metadata": {},
   "source": [
    "With findings:"
   ]
  },
  {
   "cell_type": "code",
   "execution_count": null,
   "metadata": {
    "execution": {
     "iopub.execute_input": "2025-09-17T00:33:14.810734Z",
     "iopub.status.busy": "2025-09-17T00:33:14.810608Z",
     "iopub.status.idle": "2025-09-17T00:33:14.883391Z",
     "shell.execute_reply": "2025-09-17T00:33:14.883119Z"
    }
   },
   "outputs": [],
   "source": [
    "wf_filepath = join(metachest_dir, f'{ds_name}.csv')\n",
    "wf_df.to_csv(wf_filepath, index=False)\n",
    "wf_filepath"
   ]
  },
  {
   "cell_type": "markdown",
   "metadata": {},
   "source": [
    "No findings and MTL partition:"
   ]
  },
  {
   "cell_type": "code",
   "execution_count": null,
   "metadata": {
    "execution": {
     "iopub.execute_input": "2025-09-17T00:33:14.884877Z",
     "iopub.status.busy": "2025-09-17T00:33:14.884754Z",
     "iopub.status.idle": "2025-09-17T00:33:15.006249Z",
     "shell.execute_reply": "2025-09-17T00:33:15.005903Z"
    }
   },
   "outputs": [],
   "source": [
    "def generate_mtl_nf_partition(nf_df, seed=0, mset=(0, 1, 2)):\n",
    "    n_mtrn = 380503\n",
    "    n_mval = 6793\n",
    "    n_mtst = 209198\n",
    "    n_total = n_mtrn + n_mval + n_mtst\n",
    "    pct_mtrn = n_mtrn / n_total\n",
    "    pct_mval = n_mval / n_total\n",
    "    pct_mtst = n_mtst / n_total\n",
    "\n",
    "    nf_df = nf_df.iloc[:, :5]\n",
    "    nf_df = nf_df.sample(frac=1)\n",
    "\n",
    "    n_total = nf_df.shape[0]\n",
    "    n_mtrn = int(n_total * pct_mtrn)\n",
    "    n_mtst = int(n_total * pct_mtst)\n",
    "    n_mval = n_total - (n_mtrn + n_mtst)\n",
    "\n",
    "    mtrn_df = nf_df.iloc[:n_mtrn].copy()\n",
    "    mval_df = nf_df.iloc[n_mtrn:n_mtrn+n_mval].copy()\n",
    "    mtst_df = nf_df.iloc[n_mtrn+n_mval:].copy()\n",
    "    mtrn_df['mset'] = mset[0]\n",
    "    mval_df['mset'] = mset[1]\n",
    "    mtst_df['mset'] = mset[2]\n",
    "\n",
    "    nf_mtl_df = pd.concat([mtrn_df, mval_df, mtst_df])\n",
    "    nf_filepath = join(metachest_dir, f'{ds_name}_nf.csv')\n",
    "    nf_mtl_df.to_csv(nf_filepath, index=False)\n",
    "\n",
    "    final_pct_mtrn = mtrn_df.shape[0] / nf_mtl_df.shape[0]\n",
    "    final_pct_mval = mval_df.shape[0] / nf_mtl_df.shape[0]\n",
    "    final_pct_mtst = mtst_df.shape[0] / nf_mtl_df.shape[0]\n",
    "\n",
    "    print(f'Original: '\n",
    "        f'mtrn={pct_mtrn*100:5.2f}% '\n",
    "        f'mval={pct_mval*100:5.2f}% '\n",
    "        f'mtst={pct_mtst*100:5.2f}%\\n'\n",
    "        f'     New: '\n",
    "        f'mtrn={final_pct_mtrn*100:5.2f}% '\n",
    "        f'mval={final_pct_mval*100:5.2f}% '\n",
    "        f'mtst={final_pct_mtst*100:5.2f}%\\n'\n",
    "        f'     New: '\n",
    "        f'mtrn={mtrn_df.shape[0]} '\n",
    "        f'mval={mval_df.shape[0]} '\n",
    "        f'mtst={mtst_df.shape[0]}'\n",
    "    )\n",
    "\n",
    "    print(f'Saved to {nf_filepath}')\n",
    "\n",
    "\n",
    "generate_mtl_nf_partition(nf_df)\n"
   ]
  }
 ],
 "metadata": {
  "kernelspec": {
   "display_name": "metachest",
   "language": "python",
   "name": "python3"
  },
  "language_info": {
   "codemirror_mode": {
    "name": "ipython",
    "version": 3
   },
   "file_extension": ".py",
   "mimetype": "text/x-python",
   "name": "python",
   "nbconvert_exporter": "python",
   "pygments_lexer": "ipython3",
   "version": "3.12.3"
  }
 },
 "nbformat": 4,
 "nbformat_minor": 2
}
