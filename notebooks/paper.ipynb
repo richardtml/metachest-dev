{
 "cells": [
  {
   "attachments": {},
   "cell_type": "markdown",
   "metadata": {},
   "source": [
    "# MetaChest Exploration"
   ]
  },
  {
   "cell_type": "code",
   "execution_count": null,
   "metadata": {},
   "outputs": [],
   "source": [
    "from os import makedirs\n",
    "from os.path import join\n",
    "\n",
    "import matplotlib.pyplot as plt\n",
    "import pandas as pd\n",
    "import seaborn as sns\n",
    "from matplotlib.ticker import EngFormatter\n",
    "\n",
    "from common import read_toml"
   ]
  },
  {
   "cell_type": "code",
   "execution_count": null,
   "metadata": {},
   "outputs": [],
   "source": [
    "keywords = {\n",
    "    'dataset': 'Dataset',\n",
    "    'chestxray14': 'ChestX-ray14',\n",
    "    'chexpert': 'CheXpert',\n",
    "    'metachest': 'MetaChest',\n",
    "    'mimic': 'MIMIC',\n",
    "    'padchest': 'PadChest',\n",
    "    'mtrn': 'Meta-Train',\n",
    "    'mval': 'Meta-Validation',\n",
    "    'mtst': 'Meta-Test',\n",
    "    'atelectasis': 'Atelectasis',\n",
    "    'cardiomegaly': 'Cardiomegaly',\n",
    "    'consolidation': 'Consolidation',\n",
    "    'edema': 'Edema',\n",
    "    'effusion': 'Effusion',\n",
    "    'emphysema': 'Emphysema',\n",
    "    'fibrosis': 'Fibrosis',\n",
    "    'hernia': 'Hernia',\n",
    "    'infiltration': 'Infiltration',\n",
    "    'lung_opacity': 'Lung opacity',\n",
    "    'mass': 'Mass',\n",
    "    'nodule': 'Nodule',\n",
    "    'pleural_thickening': 'Pleural thickening',\n",
    "    'pneumonia': 'Pneumonia',\n",
    "    'pneumothorax': 'Pneumothorax',\n",
    "    'total': 'Total',\n",
    "}\n",
    "\n",
    "plt.rcParams.update({\n",
    "    'text.latex.preamble': r'\\usepackage{cmbright}',\n",
    "    'text.usetex': True,\n",
    "    'font.family': 'serif',\n",
    "})\n",
    "color = sns.color_palette('deep')\n",
    "\n",
    "metachest_dir = read_toml('config.toml')['metachest_dir']\n",
    "plot_dir = join(metachest_dir, 'plots')\n",
    "makedirs(plot_dir, exist_ok=True)"
   ]
  },
  {
   "attachments": {},
   "cell_type": "markdown",
   "metadata": {},
   "source": [
    "## General"
   ]
  },
  {
   "cell_type": "code",
   "execution_count": null,
   "metadata": {},
   "outputs": [],
   "source": [
    "df = pd.read_csv(join(metachest_dir, 'metachest.csv'))\n",
    "df.head(10)"
   ]
  },
  {
   "cell_type": "markdown",
   "metadata": {},
   "source": [
    "General stats:"
   ]
  },
  {
   "cell_type": "code",
   "execution_count": null,
   "metadata": {},
   "outputs": [],
   "source": [
    "PATHOLOGIES = sorted(list(df.columns[5:]))\n",
    "cols_order = ['metachest', 'chexpert', 'mimic', 'chestxray14', 'padchest']\n",
    "\n",
    "labels_df = df[PATHOLOGIES].fillna(0).astype(int)\n",
    "n_samples = labels_df.shape[0]\n",
    "n_labels = labels_df.sum().sum()\n",
    "label_cardinality = n_labels / n_samples\n",
    "label_density = (labels_df.sum(axis=1) / labels_df.shape[1]).sum() / n_samples\n",
    "print(\n",
    "    f\"Number of samples:\\t {n_samples}\",\n",
    "    f\"Number of labels:\\t {n_labels}\",\n",
    "    f\"Label cadinality:\\t {label_cardinality}\",\n",
    "    f\"Label density:\\t\\t {label_density}\",\n",
    "    sep='\\n'\n",
    ")\n",
    "print('\\nImages per dataset:')\n",
    "df.groupby('dataset').count()['name']"
   ]
  },
  {
   "attachments": {},
   "cell_type": "markdown",
   "metadata": {},
   "source": [
    "Compute total dataframe:"
   ]
  },
  {
   "cell_type": "code",
   "execution_count": null,
   "metadata": {},
   "outputs": [],
   "source": [
    "# group by dataset\n",
    "ds_sum_df = df[['dataset'] + PATHOLOGIES].groupby('dataset').sum().astype(int)\n",
    "# sorted pathologies and datasets sseries\n",
    "ds_sum_sr = ds_sum_df.sum(axis=1).sort_values(ascending=False)\n",
    "pt_sum_sr = ds_sum_df.sum(axis=0).sort_values(ascending=False)\n",
    "# sort grouped df\n",
    "ds_sum_df = ds_sum_df.reindex(list(ds_sum_sr.index))\n",
    "ds_sum_df = ds_sum_df[list(pt_sum_sr.index)]\n",
    "\n",
    "# total df\n",
    "total_df = ds_sum_df.copy()\n",
    "total_df.loc[:, 'total'] = total_df.sum(axis=1)\n",
    "total_df.loc['metachest', :] = total_df.sum(axis=0)\n",
    "total_df = total_df.astype(int)\n",
    "total_df.T[cols_order].rename(index=keywords, columns=keywords).replace(0, '').style.format(thousands=',')\n"
   ]
  },
  {
   "attachments": {},
   "cell_type": "markdown",
   "metadata": {},
   "source": [
    "Distribution plot:"
   ]
  },
  {
   "cell_type": "code",
   "execution_count": null,
   "metadata": {},
   "outputs": [],
   "source": [
    "def plot_general(ds_sum_df):\n",
    "    df_plot = ds_sum_df.T\n",
    "    df_plot = df_plot.rename(index=keywords, columns=keywords)\n",
    "    ax = df_plot.plot.barh(stacked=True, figsize=(8, 5),\n",
    "                           color=color)\n",
    "    ax.xaxis.set_major_formatter(EngFormatter())\n",
    "    ax.set_xlabel('Number of x-ray images')\n",
    "    ax.set_xlim(0, 130000)\n",
    "    ax.xaxis.set_tick_params(labelsize='small')\n",
    "    ax.yaxis.set_tick_params(labelsize='medium')\n",
    "    ax.legend(title='Dataset', fontsize='medium')\n",
    "\n",
    "    plt.tight_layout()\n",
    "    plt.savefig(join(plot_dir, 'metachest_general.pdf'))\n",
    "    plt.savefig(join(plot_dir, 'metachest_general.jpg'))\n",
    "\n",
    "plot_general(ds_sum_df)"
   ]
  },
  {
   "cell_type": "markdown",
   "metadata": {},
   "source": [
    "Pathology co-ocurrence matrix."
   ]
  },
  {
   "cell_type": "code",
   "execution_count": null,
   "metadata": {},
   "outputs": [],
   "source": [
    "def plot_coocc(df):\n",
    "    import matplotlib.transforms as mtransforms\n",
    "    import numpy as np\n",
    "    from matplotlib.ticker import EngFormatter\n",
    "\n",
    "    df = df.iloc[:, 5:]\n",
    "    df = df.fillna(0).astype(int)\n",
    "    df_mat = df.to_numpy()\n",
    "    coocc_mat = df_mat.T.dot(df_mat)\n",
    "\n",
    "    paths = [keywords[p] for p in df.columns]\n",
    "    coocc = pd.DataFrame(coocc_mat, index=paths, columns=paths)\n",
    "    mask = np.triu(coocc+1, k=1)\n",
    "\n",
    "    fig, ax = plt.subplots(figsize=(10, 5))\n",
    "    trans_offset = mtransforms.offset_copy(ax.transData, fig=fig, x=0.18)\n",
    "\n",
    "    sns.heatmap(\n",
    "        coocc,\n",
    "        linewidth=1,\n",
    "        cmap='RdPu',\n",
    "        annot=True,\n",
    "        annot_kws={\"fontsize\": 'x-small', 'ha': 'right',\n",
    "                   'transform': trans_offset},\n",
    "        fmt='g',\n",
    "        cbar_kws={'label': 'Number of images with both pathologies',\n",
    "                  'format': EngFormatter()},\n",
    "        mask=mask,\n",
    "        ax=ax\n",
    "    )\n",
    "\n",
    "    ax.set_xticklabels(ax.get_xticklabels(),\n",
    "                       rotation=30, horizontalalignment='right')\n",
    "    ax.figure.axes[-1].tick_params(labelsize='x-small')\n",
    "\n",
    "    plt.title('Pathology co-ocurrence matrix of MetaChest')\n",
    "    plt.tight_layout()\n",
    "    plt.savefig(join(plot_dir, 'metachest_coocu.pdf'))\n",
    "    plt.savefig(join(plot_dir, 'metachest_coocu.jpg'))\n",
    "\n",
    "    return coocc\n",
    "\n",
    "\n",
    "plot_coocc(df)"
   ]
  },
  {
   "cell_type": "markdown",
   "metadata": {},
   "source": [
    "Age distribution."
   ]
  },
  {
   "cell_type": "code",
   "execution_count": null,
   "metadata": {},
   "outputs": [],
   "source": [
    "def plot_age(df: pd.DataFrame):\n",
    "    age_sr = df.age\n",
    "    bins = len(age_sr.unique())\n",
    "    age_sr.hist(bins=bins, color=color[0])\n",
    "    return age_sr.describe()\n",
    "\n",
    "plot_age(df)"
   ]
  },
  {
   "cell_type": "markdown",
   "metadata": {},
   "source": [
    "## Meta-sets"
   ]
  },
  {
   "cell_type": "code",
   "execution_count": null,
   "metadata": {},
   "outputs": [],
   "source": [
    "complete_config = read_toml(join(metachest_dir, 'mtl', 'complete.toml'))\n",
    "mtrn = complete_config['mtrn']\n",
    "mval = complete_config['mval']\n",
    "mtst = complete_config['mtst']\n",
    "mclasses = [mtrn, mval, mtst]\n",
    "\n",
    "def build_metasets_table(total_df):\n",
    "    df_msets = total_df[mtrn + mval + mtst].T\n",
    "    mset_vals = ['mtrn'] * len(mtrn) + ['mval'] * len(mval) + ['mtst'] * len(mtst)\n",
    "    df_msets.insert(0, 'mset', mset_vals)\n",
    "\n",
    "    df_msets_lst = []\n",
    "    for mset_name in ['mtrn', 'mval', 'mtst']:\n",
    "        df_mset = df_msets[df_msets['mset'] == mset_name]\n",
    "        df_mset = df_mset.drop(columns=['mset'])\n",
    "        df_mset.loc['total', :] = df_mset.sum(axis=0)\n",
    "        sr_mset = pd.Series([0] * 5, index=df_mset.columns, name=mset_name)\n",
    "        df_mset = pd.concat([sr_mset.to_frame().T, df_mset], axis=0)\n",
    "        df_msets_lst.append(df_mset)\n",
    "    df_msets = pd.concat(df_msets_lst).astype(int)\n",
    "\n",
    "    return df_msets\n",
    "\n",
    "build_metasets_table(total_df)[cols_order].rename(index=keywords, columns=keywords).replace(0, '').style.format(thousands=',')"
   ]
  },
  {
   "cell_type": "code",
   "execution_count": null,
   "metadata": {},
   "outputs": [],
   "source": [
    "\n",
    "def plot_metasets(ds, mclasses, figsize=(8, 5)):\n",
    "    titles = ['Meta-Train (Seen) ', 'Meta-Val (Unseen) ', 'Meta-Test (Unseen) ']\n",
    "    _, axs = plt.subplots(\n",
    "        nrows=len(mclasses), ncols=1, tight_layout=True,\n",
    "        gridspec_kw={'height_ratios': [len(mset) for mset in mclasses]},\n",
    "        figsize=figsize\n",
    "    )\n",
    "    for mset, title, ax in zip(mclasses, titles, axs):\n",
    "        ds_mset = ds[mset]\n",
    "        ds_mset = ds_mset.rename(columns=keywords, index=keywords)\n",
    "        ds_mset.T.plot.barh(stacked=True, ax=ax, color=color)\n",
    "\n",
    "        ax.set_title(title, fontsize='large', loc='right', y=1.0, pad=-14)\n",
    "        ax.set_xlim(0, 130000)\n",
    "        if 'Test' in title:\n",
    "            ax.xaxis.set_tick_params(labelsize='small')\n",
    "            ax.xaxis.set_major_formatter(EngFormatter())\n",
    "            ax.set_xlabel('Number of x-ray images')\n",
    "            ax.legend(loc='lower right', fontsize='medium')\n",
    "        else:\n",
    "            ax.set_xticks([],[])\n",
    "            ax.get_legend().remove()\n",
    "        ax.tick_params(axis='y', which='major', labelsize='medium')\n",
    "\n",
    "        plt.tight_layout()\n",
    "        plt.savefig(join(plot_dir, 'metachest_metasets.pdf'))\n",
    "        plt.savefig(join(plot_dir, 'metachest_metasets.jpg'))\n",
    "\n",
    "plot_metasets(ds_sum_df, mclasses)"
   ]
  }
 ],
 "metadata": {
  "kernelspec": {
   "display_name": "metachest",
   "language": "python",
   "name": "python3"
  },
  "language_info": {
   "codemirror_mode": {
    "name": "ipython",
    "version": 3
   },
   "file_extension": ".py",
   "mimetype": "text/x-python",
   "name": "python",
   "nbconvert_exporter": "python",
   "pygments_lexer": "ipython3",
   "version": "3.12.3"
  }
 },
 "nbformat": 4,
 "nbformat_minor": 2
}
