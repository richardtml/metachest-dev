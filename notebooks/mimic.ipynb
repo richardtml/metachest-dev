{
 "cells": [
  {
   "attachments": {},
   "cell_type": "markdown",
   "metadata": {},
   "source": [
    "# MIMIC CSV\n",
    "\n",
    "This notebook generates `mimic.csv` and `mimic_nf.csv` assuming the following are downloaded:\n",
    "\n",
    "* [MIMIC-CXR-JPG](https://physionet.org/content/mimic-cxr-jpg/2.0.0/) dataset\n"
   ]
  },
  {
   "cell_type": "code",
   "execution_count": null,
   "metadata": {},
   "outputs": [],
   "source": [
    "import sys\n",
    "from os.path import join\n",
    "\n",
    "import pandas as pd\n",
    "\n",
    "sys.path.append('../')\n",
    "from common import read_toml\n",
    "from common import AGE_INTERVAL\n",
    "from common import MIMIC_PATHOLOGIES as PATHOLOGIES\n",
    "\n",
    "UNIQUE_STUDIES = False"
   ]
  },
  {
   "attachments": {},
   "cell_type": "markdown",
   "metadata": {},
   "source": [
    "### Listing files"
   ]
  },
  {
   "cell_type": "code",
   "execution_count": null,
   "metadata": {},
   "outputs": [],
   "source": [
    "ds_name = 'mimic'\n",
    "config = read_toml('../config.toml')\n",
    "metachest_dir = config['metachest_dir']\n",
    "base_dir = join(config[f'{ds_name}_dir'], 'physionet.org/files/mimic-cxr-jpg/2.0.0')\n",
    "!ls -hs1 {base_dir}"
   ]
  },
  {
   "cell_type": "markdown",
   "metadata": {},
   "source": [
    "### Generating CSV"
   ]
  },
  {
   "cell_type": "code",
   "execution_count": null,
   "metadata": {},
   "outputs": [],
   "source": [
    "meta_csv_path = join(base_dir, 'mimic-cxr-2.0.0-metadata.csv.gz')\n",
    "meta_df = pd.read_csv(meta_csv_path, compression='gzip', low_memory=False)\n",
    "meta_df"
   ]
  },
  {
   "cell_type": "code",
   "execution_count": null,
   "metadata": {},
   "outputs": [],
   "source": [
    "labels_csv_path = join(base_dir, 'mimic-cxr-2.0.0-chexpert.csv.gz')\n",
    "labels_df = pd.read_csv(labels_csv_path, compression='gzip', low_memory=False)\n",
    "labels_df"
   ]
  },
  {
   "cell_type": "code",
   "execution_count": null,
   "metadata": {},
   "outputs": [],
   "source": [
    "# https://github.com/MIT-LCP/mimic-iv-website/blob/master/content/core/patients.md\n",
    "# https://physionet.org/content/mimiciv/2.2/hosp/patients.csv.gz\n",
    "patients_csv_path = join(base_dir, 'patients.csv.gz')\n",
    "patients_df = pd.read_csv(patients_csv_path, compression='gzip', low_memory=False)\n",
    "patients_df"
   ]
  },
  {
   "attachments": {},
   "cell_type": "markdown",
   "metadata": {},
   "source": [
    "Preprocessing `meta_df`:"
   ]
  },
  {
   "cell_type": "code",
   "execution_count": null,
   "metadata": {},
   "outputs": [],
   "source": [
    "original_size = len(meta_df)\n",
    "print('Available views: ', meta_df.ViewPosition.unique())\n",
    "meta_df = meta_df.dropna(subset=['ViewPosition'])\n",
    "meta_df = meta_df.rename(columns={'ViewPosition': 'view'})\n",
    "meta_df = meta_df[meta_df['view'].isin(['AP', 'PA'])]\n",
    "meta_df['view'] = meta_df['view'].str.lower()\n",
    "meta_df = meta_df[['dicom_id', 'subject_id', 'study_id', 'view']]\n",
    "meta_df = meta_df.reset_index(drop=True)\n",
    "dropped_size = len(meta_df)\n",
    "print(f'meta_df size: original {original_size}, new {dropped_size}, dropped {original_size - dropped_size}')\n",
    "meta_df"
   ]
  },
  {
   "attachments": {},
   "cell_type": "markdown",
   "metadata": {},
   "source": [
    "Preprocessing `labels_df`:"
   ]
  },
  {
   "cell_type": "code",
   "execution_count": null,
   "metadata": {},
   "outputs": [],
   "source": [
    "original_size = len(labels_df)\n",
    "labels_df = labels_df[~(labels_df['No Finding'] == 1.0)]\n",
    "labels_df = labels_df.drop(['No Finding'], axis=1)\n",
    "\n",
    "labels_df = labels_df.rename(columns={\n",
    "    'Pleural Effusion': 'Effusion',\n",
    "    'Lung Opacity': 'Lung_opacity',\n",
    "})\n",
    "for pathology in PATHOLOGIES:\n",
    "    labels_df = labels_df.rename(columns={pathology.capitalize(): pathology})\n",
    "\n",
    "labels_df = labels_df[['subject_id', 'study_id'] + PATHOLOGIES]\n",
    "\n",
    "labels_df = labels_df.fillna(0)\n",
    "labels_df = labels_df.replace(-1.0, 0)\n",
    "labels_df = labels_df.astype(int)\n",
    "\n",
    "labels_df = labels_df.reset_index(drop=True)\n",
    "dropped_size = len(labels_df)\n",
    "print(f'labels_df size: original {original_size}, new {dropped_size}, dropped {original_size - dropped_size}')\n",
    "labels_df"
   ]
  },
  {
   "attachments": {},
   "cell_type": "markdown",
   "metadata": {},
   "source": [
    "Preprocessing `patients_df`:"
   ]
  },
  {
   "cell_type": "code",
   "execution_count": null,
   "metadata": {},
   "outputs": [],
   "source": [
    "original_size = len(patients_df)\n",
    "patients_df = patients_df.rename(columns={'anchor_age': 'age', 'gender': 'sex'})\n",
    "patients_df = patients_df.dropna(subset=['age', 'sex'])\n",
    "patients_df = patients_df[patients_df['age'].between(*AGE_INTERVAL, inclusive='both')]\n",
    "patients_df = patients_df[['subject_id', 'age', 'sex']]\n",
    "patients_df['sex'] = patients_df['sex'].str.lower()\n",
    "patients_df = patients_df.reset_index(drop=True)\n",
    "dropped_size = len(patients_df)\n",
    "print(f'patients_df size: original {original_size}, new {dropped_size}, dropped {original_size - dropped_size}')\n",
    "patients_df"
   ]
  },
  {
   "attachments": {},
   "cell_type": "markdown",
   "metadata": {},
   "source": [
    "Join `meta_df` and `patients_df`:"
   ]
  },
  {
   "cell_type": "code",
   "execution_count": null,
   "metadata": {},
   "outputs": [],
   "source": [
    "meta_patients_df = pd.merge(meta_df, patients_df, how='inner', on=['subject_id'])\n",
    "print(f'Drop {len(patients_df) - len(meta_patients_df)} records')\n",
    "meta_patients_df"
   ]
  },
  {
   "attachments": {},
   "cell_type": "markdown",
   "metadata": {},
   "source": [
    "Join all:"
   ]
  },
  {
   "cell_type": "code",
   "execution_count": null,
   "metadata": {},
   "outputs": [],
   "source": [
    "all_df = pd.merge(meta_patients_df, labels_df, how='inner', on=['subject_id', 'study_id'])\n",
    "print(f'Drop {len(meta_df) - len(labels_df)} records')\n",
    "all_df"
   ]
  },
  {
   "attachments": {},
   "cell_type": "markdown",
   "metadata": {},
   "source": [
    "Final df:"
   ]
  },
  {
   "cell_type": "code",
   "execution_count": null,
   "metadata": {},
   "outputs": [],
   "source": [
    "all_df['name'] = (\n",
    "    'p' +\n",
    "    all_df['subject_id'].astype('string').str[:2] +\n",
    "    '/' +\n",
    "    'p' +\n",
    "    all_df['subject_id'].astype('string') +\n",
    "    '/' +\n",
    "    's' +\n",
    "    all_df['study_id'].astype('string') +\n",
    "    '/' +\n",
    "    all_df['dicom_id']\n",
    ")\n",
    "if UNIQUE_STUDIES:\n",
    "    all_df = all_df.groupby(['subject_id']).first()\n",
    "cols = ['name', 'age', 'sex', 'view'] + PATHOLOGIES\n",
    "df = all_df[cols]\n",
    "df.insert(0, 'dataset', 'mimic', True)\n",
    "df"
   ]
  },
  {
   "cell_type": "code",
   "execution_count": null,
   "metadata": {},
   "outputs": [],
   "source": [
    "wf_df = df[df[PATHOLOGIES].any(axis=1)]\n",
    "nf_df = df[~df[PATHOLOGIES].any(axis=1)]"
   ]
  },
  {
   "cell_type": "markdown",
   "metadata": {},
   "source": [
    "### Overview"
   ]
  },
  {
   "cell_type": "code",
   "execution_count": null,
   "metadata": {},
   "outputs": [],
   "source": [
    "print(\n",
    "    f'        Total: {df.shape[0]}\\n'\n",
    "    f'With findings: {wf_df.shape[0]:6d}\\n'\n",
    "    f'  No findings: {nf_df.shape[0]:6d}'\n",
    ")\n",
    "df[PATHOLOGIES].sum()"
   ]
  },
  {
   "cell_type": "markdown",
   "metadata": {},
   "source": [
    "### Saving\n"
   ]
  },
  {
   "cell_type": "markdown",
   "metadata": {},
   "source": [
    "With findings:"
   ]
  },
  {
   "cell_type": "code",
   "execution_count": null,
   "metadata": {},
   "outputs": [],
   "source": [
    "wf_filepath = join(metachest_dir, f'{ds_name}.csv')\n",
    "wf_df.to_csv(wf_filepath, index=False)\n",
    "wf_filepath"
   ]
  },
  {
   "cell_type": "markdown",
   "metadata": {},
   "source": [
    "No findings and MTL partition:"
   ]
  },
  {
   "cell_type": "code",
   "execution_count": null,
   "metadata": {},
   "outputs": [],
   "source": [
    "def generate_mtl_nf_partition(nf_df, seed=0, mset=(0, 1, 2)):\n",
    "    n_mtrn = 380503\n",
    "    n_mval = 6793\n",
    "    n_mtst = 209198\n",
    "    n_total = n_mtrn + n_mval + n_mtst\n",
    "    pct_mtrn = n_mtrn / n_total\n",
    "    pct_mval = n_mval / n_total\n",
    "    pct_mtst = n_mtst / n_total\n",
    "\n",
    "    nf_df = nf_df.iloc[:, :5]\n",
    "    nf_df = nf_df.sample(frac=1)\n",
    "\n",
    "    n_total = nf_df.shape[0]\n",
    "    n_mtrn = int(n_total * pct_mtrn)\n",
    "    n_mtst = int(n_total * pct_mtst)\n",
    "    n_mval = n_total - (n_mtrn + n_mtst)\n",
    "\n",
    "    mtrn_df = nf_df.iloc[:n_mtrn].copy()\n",
    "    mval_df = nf_df.iloc[n_mtrn:n_mtrn+n_mval].copy()\n",
    "    mtst_df = nf_df.iloc[n_mtrn+n_mval:].copy()\n",
    "    mtrn_df['mset'] = mset[0]\n",
    "    mval_df['mset'] = mset[1]\n",
    "    mtst_df['mset'] = mset[2]\n",
    "\n",
    "    nf_mtl_df = pd.concat([mtrn_df, mval_df, mtst_df])\n",
    "    nf_filepath = join(metachest_dir, f'{ds_name}_nf.csv')\n",
    "    nf_mtl_df.to_csv(nf_filepath, index=False)\n",
    "\n",
    "    final_pct_mtrn = mtrn_df.shape[0] / nf_mtl_df.shape[0]\n",
    "    final_pct_mval = mval_df.shape[0] / nf_mtl_df.shape[0]\n",
    "    final_pct_mtst = mtst_df.shape[0] / nf_mtl_df.shape[0]\n",
    "\n",
    "    print(f'Original: '\n",
    "        f'mtrn={pct_mtrn*100:5.2f}% '\n",
    "        f'mval={pct_mval*100:5.2f}% '\n",
    "        f'mtst={pct_mtst*100:5.2f}%\\n'\n",
    "        f'     New: '\n",
    "        f'mtrn={final_pct_mtrn*100:5.2f}% '\n",
    "        f'mval={final_pct_mval*100:5.2f}% '\n",
    "        f'mtst={final_pct_mtst*100:5.2f}%\\n'\n",
    "        f'     New: '\n",
    "        f'mtrn={mtrn_df.shape[0]} '\n",
    "        f'mval={mval_df.shape[0]} '\n",
    "        f'mtst={mtst_df.shape[0]}'\n",
    "    )\n",
    "\n",
    "    print(f'Saved to {nf_filepath}')\n",
    "\n",
    "\n",
    "generate_mtl_nf_partition(nf_df)\n"
   ]
  }
 ],
 "metadata": {
  "kernelspec": {
   "display_name": "metachest",
   "language": "python",
   "name": "python3"
  },
  "language_info": {
   "codemirror_mode": {
    "name": "ipython",
    "version": 3
   },
   "file_extension": ".py",
   "mimetype": "text/x-python",
   "name": "python",
   "nbconvert_exporter": "python",
   "pygments_lexer": "ipython3",
   "version": "3.12.3"
  }
 },
 "nbformat": 4,
 "nbformat_minor": 2
}
