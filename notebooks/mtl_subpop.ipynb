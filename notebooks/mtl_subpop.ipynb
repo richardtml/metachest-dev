{
 "cells": [
  {
   "attachments": {},
   "cell_type": "markdown",
   "metadata": {},
   "source": [
    "# Subpopulations Meta-Learning Distributions"
   ]
  },
  {
   "cell_type": "code",
   "execution_count": null,
   "metadata": {},
   "outputs": [],
   "source": [
    "from os import makedirs\n",
    "from os.path import join\n",
    "\n",
    "import pandas as pd\n",
    "\n",
    "from common import ALIASES, _filter_mset, plot_coocc, read_toml"
   ]
  },
  {
   "cell_type": "code",
   "execution_count": null,
   "metadata": {},
   "outputs": [],
   "source": [
    "config = read_toml('config.toml')\n",
    "metachest_dir = config['metachest_dir']\n",
    "df = pd.read_csv(join(metachest_dir, 'metachest.csv'))\n",
    "\n",
    "mclasses = {'mtrn': config['mtrn'], 'mval': config['mval'], 'mtst': config['mtst']}\n",
    "mset_dfs = [_filter_mset(mset, mclasses, df)\n",
    "            for mset in mclasses.keys()]"
   ]
  },
  {
   "cell_type": "code",
   "execution_count": null,
   "metadata": {},
   "outputs": [],
   "source": [
    "# TODO: remove\n",
    "# def age_mask(df, val):\n",
    "#     if val == 'center':\n",
    "#         a_left, a_right = [31, 62]\n",
    "#         mask = df['age'].between(a_left, a_right, inclusive='both')\n",
    "#     else:\n",
    "#         (a_left, a_right), (b_left, b_right) = [10, 30], [63, 80]\n",
    "#         mask = (df['age'].between(a_left, a_right, inclusive='both')|\n",
    "#                 df['age'].between(b_left, b_right, inclusive='both'))\n",
    "#     return mask\n",
    "\n",
    "# def age_mask(df, val):\n",
    "#     left, right = {'young': [10, 20], 'adult': [21, 60], 'old': [61, 80]}[val]\n",
    "#     mask = df['age'].between(left, right, inclusive='both')\n",
    "#     return mask\n",
    "\n",
    "def age_mask(df, val):\n",
    "    left, right = {\n",
    "        'decade2': [10, 20],\n",
    "        'decade3': [21, 30],\n",
    "        'decade4': [31, 40],\n",
    "        'decade5': [41, 50],\n",
    "        'decade6': [51, 60],\n",
    "        'decade7': [61, 70],\n",
    "        'decade8': [71, 80],\n",
    "    }[val]\n",
    "    mask = df['age'].between(left, right, inclusive='both')\n",
    "    return mask\n",
    "\n",
    "\n",
    "def sex_mask(df, val):\n",
    "    return df['sex'] == val[:1]\n",
    "\n",
    "\n",
    "def view_mask(df, val):\n",
    "    return df['view'] == val\n",
    "\n",
    "\n",
    "subpops = [\n",
    "    # ['age',  'center', age_mask],\n",
    "    # ['age',  'tails',  age_mask],\n",
    "    # name   val       mask\n",
    "    # ['age',  'young',  age_mask],\n",
    "    # ['age',  'adult',  age_mask],\n",
    "    # ['age',  'old',    age_mask],\n",
    "    ['age',  'decade2',   age_mask],\n",
    "    ['age',  'decade3',   age_mask],\n",
    "    ['age',  'decade4',   age_mask],\n",
    "    ['age',  'decade5',   age_mask],\n",
    "    ['age',  'decade6',   age_mask],\n",
    "    ['age',  'decade7',   age_mask],\n",
    "    ['age',  'decade8',   age_mask],\n",
    "    ['sex',  'female', sex_mask],\n",
    "    ['sex',  'male',   sex_mask],\n",
    "    ['view', 'ap',     view_mask],\n",
    "    ['view', 'pa',     view_mask]\n",
    "]\n",
    "\n",
    "distro_dir = join(metachest_dir, 'distro')\n",
    "makedirs(distro_dir, exist_ok=True)"
   ]
  },
  {
   "cell_type": "code",
   "execution_count": null,
   "metadata": {},
   "outputs": [],
   "source": [
    "for name, val, fn_mask in subpops:\n",
    "    mask = fn_mask(df, val)\n",
    "    distro_df = pd.DataFrame({\n",
    "        'mtrn': [1] * mask.shape[0],\n",
    "        'mval': mask,\n",
    "        'mtst': mask,\n",
    "    }).astype(int)\n",
    "    path = join(distro_dir, f'{name}_{val}.csv')\n",
    "    distro_df.to_csv(path, index=False)\n",
    "    print(path)\n",
    "\n",
    "    dataset_title = f'{ALIASES[name]}-{val}'\n",
    "    for mset, mset_df in zip(mclasses.keys(), mset_dfs):\n",
    "        mask = distro_df[mset].astype(bool)\n",
    "        ds_mset_df = mset_df.loc[mask]\n",
    "        plot_coocc(dataset_title, mset, ds_mset_df.iloc[:, 5:])"
   ]
  },
  {
   "cell_type": "markdown",
   "metadata": {},
   "source": [
    "### No-finding"
   ]
  },
  {
   "cell_type": "code",
   "execution_count": null,
   "metadata": {},
   "outputs": [],
   "source": [
    "nf_df = pd.read_csv(join(metachest_dir, 'metachest_nf.csv'))\n",
    "\n",
    "for name, val, fn_mask in subpops:\n",
    "    nf_distro = ( (nf_df.mset == 0) |\n",
    "                 ((nf_df.mset == 1) & fn_mask(nf_df, val)) |\n",
    "                 ((nf_df.mset == 2) & fn_mask(nf_df, val)))\n",
    "    nf_distro = nf_distro.rename('mask').to_frame().astype(int)\n",
    "    path = join(distro_dir, f'{name}_{val}_nf.csv')\n",
    "    nf_distro.to_csv(path, index=False)\n",
    "    print(path)"
   ]
  }
 ],
 "metadata": {
  "kernelspec": {
   "display_name": "metachest",
   "language": "python",
   "name": "python3"
  },
  "language_info": {
   "codemirror_mode": {
    "name": "ipython",
    "version": 3
   },
   "file_extension": ".py",
   "mimetype": "text/x-python",
   "name": "python",
   "nbconvert_exporter": "python",
   "pygments_lexer": "ipython3",
   "version": "3.12.3"
  }
 },
 "nbformat": 4,
 "nbformat_minor": 2
}
