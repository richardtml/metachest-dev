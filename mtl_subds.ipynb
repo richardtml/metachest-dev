{
 "cells": [
  {
   "attachments": {},
   "cell_type": "markdown",
   "metadata": {},
   "source": [
    "# Subdatasets Meta-Learning Distribution"
   ]
  },
  {
   "cell_type": "code",
   "execution_count": null,
   "metadata": {
    "execution": {
     "iopub.execute_input": "2024-05-15T01:18:12.964161Z",
     "iopub.status.busy": "2024-05-15T01:18:12.964025Z",
     "iopub.status.idle": "2024-05-15T01:18:13.361534Z",
     "shell.execute_reply": "2024-05-15T01:18:13.361131Z"
    }
   },
   "outputs": [],
   "source": [
    "import os\n",
    "from os.path import join\n",
    "\n",
    "import numpy as np\n",
    "import pandas as pd\n",
    "\n",
    "from common import MCLASSES, filter_msets, read_toml, save_toml\n"
   ]
  },
  {
   "cell_type": "code",
   "execution_count": null,
   "metadata": {
    "execution": {
     "iopub.execute_input": "2024-05-15T01:18:13.363343Z",
     "iopub.status.busy": "2024-05-15T01:18:13.363159Z",
     "iopub.status.idle": "2024-05-15T01:18:13.365590Z",
     "shell.execute_reply": "2024-05-15T01:18:13.365270Z"
    }
   },
   "outputs": [],
   "source": [
    "def filter_dataset(df, filter_df, mclasses, dataset, datasets):\n",
    "    other_datasets = [ds for ds in datasets if ds != dataset]\n",
    "    tdf = df[df[mclasses['mtst']].any(axis=1)]\n",
    "    tdf = tdf[tdf['dataset'].isin(other_datasets)]\n",
    "    exclude = tdf.index\n",
    "    filter_df.loc[exclude, 'mtst'] = 0\n",
    "    return filter_df"
   ]
  },
  {
   "cell_type": "code",
   "execution_count": null,
   "metadata": {
    "execution": {
     "iopub.execute_input": "2024-05-15T01:18:13.367064Z",
     "iopub.status.busy": "2024-05-15T01:18:13.366896Z",
     "iopub.status.idle": "2024-05-15T01:18:14.294859Z",
     "shell.execute_reply": "2024-05-15T01:18:14.294450Z"
    }
   },
   "outputs": [],
   "source": [
    "metachest_dir = read_toml('config.toml')['metachest_dir']\n",
    "mtl_dir = join(metachest_dir, 'mtl')\n",
    "os.makedirs(mtl_dir, exist_ok=True)\n",
    "\n",
    "mclasses = MCLASSES\n",
    "df = pd.read_csv(join(metachest_dir, 'metachest.csv'))\n",
    "\n",
    "\n",
    "datasets = list(df['dataset'].unique())\n",
    "for dataset in datasets:\n",
    "\n",
    "    filter_df = pd.DataFrame(\n",
    "        np.ones([df.shape[0], 3], dtype=int),\n",
    "        columns=mclasses.keys()\n",
    "    )\n",
    "    filter_msets(df, filter_df, mclasses)\n",
    "    filter_dataset(df, filter_df, mclasses, dataset, datasets)\n",
    "\n",
    "    name = join(mtl_dir, f'ds_{dataset}')\n",
    "    save_toml(f'{name}.toml', mclasses)\n",
    "    filter_df.to_csv(f'{name}.csv', index=False)"
   ]
  }
 ],
 "metadata": {
  "kernelspec": {
   "display_name": "meta-cxr",
   "language": "python",
   "name": "python3"
  },
  "language_info": {
   "codemirror_mode": {
    "name": "ipython",
    "version": 3
   },
   "file_extension": ".py",
   "mimetype": "text/x-python",
   "name": "python",
   "nbconvert_exporter": "python",
   "pygments_lexer": "ipython3",
   "version": "3.12.3"
  }
 },
 "nbformat": 4,
 "nbformat_minor": 2
}
