{
 "cells": [
  {
   "attachments": {},
   "cell_type": "markdown",
   "metadata": {},
   "source": [
    "# Subpopulations Meta-Learning Distributions"
   ]
  },
  {
   "cell_type": "code",
   "execution_count": null,
   "metadata": {
    "execution": {
     "iopub.execute_input": "2024-05-15T01:18:16.015754Z",
     "iopub.status.busy": "2024-05-15T01:18:16.015637Z",
     "iopub.status.idle": "2024-05-15T01:18:16.413909Z",
     "shell.execute_reply": "2024-05-15T01:18:16.413501Z"
    }
   },
   "outputs": [],
   "source": [
    "import os\n",
    "from os.path import join\n",
    "\n",
    "import numpy as np\n",
    "import pandas as pd\n",
    "\n",
    "from common import MCLASSES, filter_msets, read_toml, save_toml"
   ]
  },
  {
   "cell_type": "code",
   "execution_count": null,
   "metadata": {
    "execution": {
     "iopub.execute_input": "2024-05-15T01:18:16.415805Z",
     "iopub.status.busy": "2024-05-15T01:18:16.415597Z",
     "iopub.status.idle": "2024-05-15T01:18:16.418583Z",
     "shell.execute_reply": "2024-05-15T01:18:16.418335Z"
    }
   },
   "outputs": [],
   "source": [
    "def filter_subpop(df, filter_df, col, val):\n",
    "    msets = ['mval', 'mtst']\n",
    "    if isinstance(val, str):\n",
    "        exclude = ~(df[col] == val)\n",
    "        filter_df.loc[exclude, msets] = 0\n",
    "    else:\n",
    "        if len(val) == 1:\n",
    "            (a_left, a_right), = val\n",
    "            exclude = ~(df[col].between(a_left, a_right, inclusive='both'))\n",
    "            filter_df.loc[exclude, msets] = 0\n",
    "        else:\n",
    "            (a_left, a_right), (b_left, b_right) = val\n",
    "            exclude = ~(df[col].between(a_left, a_right, inclusive='both')|\n",
    "                        df[col].between(b_left, b_right, inclusive='both'))\n",
    "            filter_df.loc[exclude, msets] = 0\n",
    "    return filter_df"
   ]
  },
  {
   "cell_type": "code",
   "execution_count": null,
   "metadata": {
    "execution": {
     "iopub.execute_input": "2024-05-15T01:18:16.420000Z",
     "iopub.status.busy": "2024-05-15T01:18:16.419751Z",
     "iopub.status.idle": "2024-05-15T01:18:17.555196Z",
     "shell.execute_reply": "2024-05-15T01:18:17.554786Z"
    }
   },
   "outputs": [],
   "source": [
    "metachest_dir = read_toml('config.toml')['metachest_dir']\n",
    "mtl_dir = join(metachest_dir, 'mtl')\n",
    "os.makedirs(mtl_dir, exist_ok=True)\n",
    "\n",
    "mclasses = MCLASSES\n",
    "df = pd.read_csv(join(metachest_dir, 'metachest.csv'))\n",
    "\n",
    "subpops = [\n",
    "    # name     col     mval/mtst\n",
    "    ['center', 'age',  [[31,62]]],\n",
    "    ['tails',  'age',  [[10,30],[63,80]]],\n",
    "    ['female', 'sex',  'f'],\n",
    "    ['male',   'sex',  'm'],\n",
    "    ['ap',     'view', 'ap'],\n",
    "    ['pa',     'view', 'pa']\n",
    "]\n",
    "\n",
    "for subpop in subpops:\n",
    "\n",
    "    name, col, val = subpop\n",
    "    filter_df = pd.DataFrame(\n",
    "        np.ones([df.shape[0], 3], dtype=int),\n",
    "        columns=mclasses.keys()\n",
    "    )\n",
    "\n",
    "    filter_subpop(df, filter_df, col, val)\n",
    "    filter_msets(df, filter_df, mclasses)\n",
    "\n",
    "    path = join(mtl_dir, f'{col}_{name}')\n",
    "    save_toml(f'{path}.toml', mclasses)\n",
    "    filter_df.to_csv(f'{path}.csv', index=False)\n"
   ]
  }
 ],
 "metadata": {
  "kernelspec": {
   "display_name": "meta-cxr",
   "language": "python",
   "name": "python3"
  },
  "language_info": {
   "codemirror_mode": {
    "name": "ipython",
    "version": 3
   },
   "file_extension": ".py",
   "mimetype": "text/x-python",
   "name": "python",
   "nbconvert_exporter": "python",
   "pygments_lexer": "ipython3",
   "version": "3.12.3"
  }
 },
 "nbformat": 4,
 "nbformat_minor": 2
}
