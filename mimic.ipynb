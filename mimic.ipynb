{
 "cells": [
  {
   "attachments": {},
   "cell_type": "markdown",
   "metadata": {},
   "source": [
    "# MIMIC CSV\n",
    "\n",
    "This notebook generates `mimic.csv` assuming the following are downloaded:\n",
    "\n",
    "* [MIMIC-CXR-JPG](https://physionet.org/content/mimic-cxr-jpg/2.0.0/) dataset\n"
   ]
  },
  {
   "cell_type": "code",
   "execution_count": null,
   "metadata": {
    "execution": {
     "iopub.execute_input": "2024-05-13T22:03:56.086862Z",
     "iopub.status.busy": "2024-05-13T22:03:56.086748Z",
     "iopub.status.idle": "2024-05-13T22:03:56.343704Z",
     "shell.execute_reply": "2024-05-13T22:03:56.343305Z"
    }
   },
   "outputs": [],
   "source": [
    "from os.path import join\n",
    "\n",
    "import pandas as pd\n",
    "\n",
    "from common import read_toml\n",
    "from common import AGE_INTERVAL\n",
    "from common import MIMIC_PATHOLOGIES as PATHOLOGIES\n",
    "\n",
    "UNIQUE_STUDIES = False"
   ]
  },
  {
   "attachments": {},
   "cell_type": "markdown",
   "metadata": {},
   "source": [
    "### Listing files"
   ]
  },
  {
   "cell_type": "code",
   "execution_count": null,
   "metadata": {
    "execution": {
     "iopub.execute_input": "2024-05-13T22:03:56.345496Z",
     "iopub.status.busy": "2024-05-13T22:03:56.345332Z",
     "iopub.status.idle": "2024-05-13T22:03:56.524597Z",
     "shell.execute_reply": "2024-05-13T22:03:56.524190Z"
    }
   },
   "outputs": [],
   "source": [
    "config = read_toml('config.toml')\n",
    "base_dir = join(config['mimic_dir'], 'physionet.org/files/mimic-cxr-jpg/2.0.0')\n",
    "!ls -hs1 {base_dir}"
   ]
  },
  {
   "cell_type": "markdown",
   "metadata": {},
   "source": [
    "### Generating CSV"
   ]
  },
  {
   "cell_type": "code",
   "execution_count": null,
   "metadata": {
    "execution": {
     "iopub.execute_input": "2024-05-13T22:03:56.526506Z",
     "iopub.status.busy": "2024-05-13T22:03:56.526344Z",
     "iopub.status.idle": "2024-05-13T22:03:57.111428Z",
     "shell.execute_reply": "2024-05-13T22:03:57.111114Z"
    }
   },
   "outputs": [],
   "source": [
    "meta_csv_path = join(base_dir, 'mimic-cxr-2.0.0-metadata.csv.gz')\n",
    "meta_df = pd.read_csv(meta_csv_path, compression='gzip', low_memory=False)\n",
    "meta_df"
   ]
  },
  {
   "cell_type": "code",
   "execution_count": null,
   "metadata": {
    "execution": {
     "iopub.execute_input": "2024-05-13T22:03:57.112987Z",
     "iopub.status.busy": "2024-05-13T22:03:57.112840Z",
     "iopub.status.idle": "2024-05-13T22:03:57.253721Z",
     "shell.execute_reply": "2024-05-13T22:03:57.253397Z"
    }
   },
   "outputs": [],
   "source": [
    "labels_csv_path = join(base_dir, 'mimic-cxr-2.0.0-chexpert.csv.gz')\n",
    "labels_df = pd.read_csv(labels_csv_path, compression='gzip', low_memory=False)\n",
    "labels_df"
   ]
  },
  {
   "cell_type": "code",
   "execution_count": null,
   "metadata": {
    "execution": {
     "iopub.execute_input": "2024-05-13T22:03:57.255359Z",
     "iopub.status.busy": "2024-05-13T22:03:57.255195Z",
     "iopub.status.idle": "2024-05-13T22:03:57.353025Z",
     "shell.execute_reply": "2024-05-13T22:03:57.352600Z"
    }
   },
   "outputs": [],
   "source": [
    "# https://github.com/MIT-LCP/mimic-iv-website/blob/master/content/core/patients.md\n",
    "# https://physionet.org/content/mimiciv/2.2/hosp/patients.csv.gz\n",
    "patients_csv_path = join(base_dir, 'patients.csv.gz')\n",
    "patients_df = pd.read_csv(patients_csv_path, compression='gzip', low_memory=False)\n",
    "patients_df"
   ]
  },
  {
   "attachments": {},
   "cell_type": "markdown",
   "metadata": {},
   "source": [
    "Preprocessing `meta_df`:"
   ]
  },
  {
   "cell_type": "code",
   "execution_count": null,
   "metadata": {
    "execution": {
     "iopub.execute_input": "2024-05-13T22:03:57.354695Z",
     "iopub.status.busy": "2024-05-13T22:03:57.354427Z",
     "iopub.status.idle": "2024-05-13T22:03:57.470915Z",
     "shell.execute_reply": "2024-05-13T22:03:57.470589Z"
    }
   },
   "outputs": [],
   "source": [
    "original_size = len(meta_df)\n",
    "print('Available views: ', meta_df.ViewPosition.unique())\n",
    "meta_df = meta_df.dropna(subset=['ViewPosition'])\n",
    "meta_df = meta_df.rename(columns={'ViewPosition': 'view'})\n",
    "meta_df = meta_df[meta_df['view'].isin(['AP', 'PA'])]\n",
    "meta_df['view'] = meta_df['view'].str.lower()\n",
    "meta_df = meta_df[['dicom_id', 'subject_id', 'study_id', 'view']]\n",
    "meta_df = meta_df.reset_index(drop=True)\n",
    "dropped_size = len(meta_df)\n",
    "print(f'meta_df size: original {original_size}, new {dropped_size}, dropped {original_size - dropped_size}')\n",
    "meta_df"
   ]
  },
  {
   "attachments": {},
   "cell_type": "markdown",
   "metadata": {},
   "source": [
    "Preprocessing `labels_df`:"
   ]
  },
  {
   "cell_type": "code",
   "execution_count": null,
   "metadata": {
    "execution": {
     "iopub.execute_input": "2024-05-13T22:03:57.472419Z",
     "iopub.status.busy": "2024-05-13T22:03:57.472276Z",
     "iopub.status.idle": "2024-05-13T22:03:57.521087Z",
     "shell.execute_reply": "2024-05-13T22:03:57.520618Z"
    }
   },
   "outputs": [],
   "source": [
    "original_size = len(labels_df)\n",
    "labels_df = labels_df[~(labels_df['No Finding'] == 1.0)]\n",
    "labels_df = labels_df.drop(['No Finding'], axis=1)\n",
    "\n",
    "labels_df = labels_df.rename(columns={\n",
    "    'Pleural Effusion': 'Effusion',\n",
    "    'Lung Opacity': 'Lung_opacity',\n",
    "})\n",
    "for pathology in PATHOLOGIES:\n",
    "    labels_df = labels_df.rename(columns={pathology.capitalize(): pathology})\n",
    "\n",
    "labels_df = labels_df[['subject_id', 'study_id'] + PATHOLOGIES]\n",
    "\n",
    "labels_df = labels_df.fillna(0)\n",
    "labels_df = labels_df.replace(-1.0, 0)\n",
    "labels_df = labels_df.astype(int)\n",
    "labels_df = labels_df[labels_df[PATHOLOGIES].any(axis=1)]\n",
    "\n",
    "labels_df = labels_df.reset_index(drop=True)\n",
    "dropped_size = len(labels_df)\n",
    "print(f'labels_df size: original {original_size}, new {dropped_size}, dropped {original_size - dropped_size}')\n",
    "labels_df"
   ]
  },
  {
   "attachments": {},
   "cell_type": "markdown",
   "metadata": {},
   "source": [
    "Preprocessing `patients_df`:"
   ]
  },
  {
   "cell_type": "code",
   "execution_count": null,
   "metadata": {
    "execution": {
     "iopub.execute_input": "2024-05-13T22:03:57.522682Z",
     "iopub.status.busy": "2024-05-13T22:03:57.522535Z",
     "iopub.status.idle": "2024-05-13T22:03:57.565122Z",
     "shell.execute_reply": "2024-05-13T22:03:57.564749Z"
    }
   },
   "outputs": [],
   "source": [
    "original_size = len(patients_df)\n",
    "patients_df = patients_df.rename(columns={'anchor_age': 'age', 'gender': 'sex'})\n",
    "patients_df = patients_df.dropna(subset=['age', 'sex'])\n",
    "patients_df = patients_df[patients_df['age'].between(*AGE_INTERVAL, inclusive='both')]\n",
    "patients_df = patients_df[['subject_id', 'age', 'sex']]\n",
    "patients_df['sex'] = patients_df['sex'].str.lower()\n",
    "patients_df = patients_df.reset_index(drop=True)\n",
    "dropped_size = len(patients_df)\n",
    "print(f'patients_df size: original {original_size}, new {dropped_size}, dropped {original_size - dropped_size}')\n",
    "patients_df"
   ]
  },
  {
   "attachments": {},
   "cell_type": "markdown",
   "metadata": {},
   "source": [
    "Join `meta_df` and `patients_df`:"
   ]
  },
  {
   "cell_type": "code",
   "execution_count": null,
   "metadata": {
    "execution": {
     "iopub.execute_input": "2024-05-13T22:03:57.566619Z",
     "iopub.status.busy": "2024-05-13T22:03:57.566499Z",
     "iopub.status.idle": "2024-05-13T22:03:57.597218Z",
     "shell.execute_reply": "2024-05-13T22:03:57.596901Z"
    }
   },
   "outputs": [],
   "source": [
    "meta_patients_df = pd.merge(meta_df, patients_df, how='inner', on=['subject_id'])\n",
    "print(f'Drop {len(patients_df) - len(meta_patients_df)} records')\n",
    "meta_patients_df"
   ]
  },
  {
   "attachments": {},
   "cell_type": "markdown",
   "metadata": {},
   "source": [
    "Join all:"
   ]
  },
  {
   "cell_type": "code",
   "execution_count": null,
   "metadata": {
    "execution": {
     "iopub.execute_input": "2024-05-13T22:03:57.598956Z",
     "iopub.status.busy": "2024-05-13T22:03:57.598706Z",
     "iopub.status.idle": "2024-05-13T22:03:57.653396Z",
     "shell.execute_reply": "2024-05-13T22:03:57.653076Z"
    }
   },
   "outputs": [],
   "source": [
    "all_df = pd.merge(meta_patients_df, labels_df, how='inner', on=['subject_id', 'study_id'])\n",
    "print(f'Drop {len(meta_df) - len(labels_df)} records')\n",
    "all_df"
   ]
  },
  {
   "attachments": {},
   "cell_type": "markdown",
   "metadata": {},
   "source": [
    "Final df:"
   ]
  },
  {
   "cell_type": "code",
   "execution_count": null,
   "metadata": {
    "execution": {
     "iopub.execute_input": "2024-05-13T22:03:57.655014Z",
     "iopub.status.busy": "2024-05-13T22:03:57.654864Z",
     "iopub.status.idle": "2024-05-13T22:03:57.806530Z",
     "shell.execute_reply": "2024-05-13T22:03:57.806199Z"
    }
   },
   "outputs": [],
   "source": [
    "all_df['name'] = (\n",
    "    'p' +\n",
    "    all_df['subject_id'].astype('string').str[:2] +\n",
    "    '/' +\n",
    "    'p' +\n",
    "    all_df['subject_id'].astype('string') +\n",
    "    '/' +\n",
    "    's' +\n",
    "    all_df['study_id'].astype('string') +\n",
    "    '/' +\n",
    "    all_df['dicom_id']\n",
    ")\n",
    "if UNIQUE_STUDIES:\n",
    "    all_df = all_df.groupby(['subject_id']).first()\n",
    "cols = ['name', 'age', 'sex', 'view'] + PATHOLOGIES\n",
    "df = all_df[cols]\n",
    "df.insert(0, 'dataset', 'mimic', True)\n",
    "df"
   ]
  },
  {
   "attachments": {},
   "cell_type": "markdown",
   "metadata": {},
   "source": [
    " Check there are no normal examples:"
   ]
  },
  {
   "cell_type": "code",
   "execution_count": null,
   "metadata": {
    "execution": {
     "iopub.execute_input": "2024-05-13T22:03:57.808142Z",
     "iopub.status.busy": "2024-05-13T22:03:57.807996Z",
     "iopub.status.idle": "2024-05-13T22:03:57.814240Z",
     "shell.execute_reply": "2024-05-13T22:03:57.814013Z"
    }
   },
   "outputs": [],
   "source": [
    "df[(~df[PATHOLOGIES].astype(bool)).all(axis=1)]"
   ]
  },
  {
   "attachments": {},
   "cell_type": "markdown",
   "metadata": {},
   "source": [
    "### Saving CSV"
   ]
  },
  {
   "cell_type": "code",
   "execution_count": null,
   "metadata": {
    "execution": {
     "iopub.execute_input": "2024-05-13T22:03:57.815690Z",
     "iopub.status.busy": "2024-05-13T22:03:57.815550Z",
     "iopub.status.idle": "2024-05-13T22:03:58.048737Z",
     "shell.execute_reply": "2024-05-13T22:03:58.048473Z"
    }
   },
   "outputs": [],
   "source": [
    "path = join(read_toml('config.toml')['metachest_dir'], 'mimic.csv')\n",
    "df.to_csv(path, index=False)\n",
    "path"
   ]
  },
  {
   "attachments": {},
   "cell_type": "markdown",
   "metadata": {},
   "source": [
    "Overview:"
   ]
  },
  {
   "cell_type": "code",
   "execution_count": null,
   "metadata": {
    "execution": {
     "iopub.execute_input": "2024-05-13T22:03:58.050234Z",
     "iopub.status.busy": "2024-05-13T22:03:58.050030Z",
     "iopub.status.idle": "2024-05-13T22:03:58.054619Z",
     "shell.execute_reply": "2024-05-13T22:03:58.054387Z"
    }
   },
   "outputs": [],
   "source": [
    "print(f'Total: {df.shape[0]}')\n",
    "df[PATHOLOGIES].sum()"
   ]
  }
 ],
 "metadata": {
  "kernelspec": {
   "display_name": "meta-cxr",
   "language": "python",
   "name": "python3"
  },
  "language_info": {
   "codemirror_mode": {
    "name": "ipython",
    "version": 3
   },
   "file_extension": ".py",
   "mimetype": "text/x-python",
   "name": "python",
   "nbconvert_exporter": "python",
   "pygments_lexer": "ipython3",
   "version": "3.12.3"
  },
  "vscode": {
   "interpreter": {
    "hash": "828448848f9aabb5174182aff7487f24476d09daf7da4bd3b030d8cfe91c04bc"
   }
  }
 },
 "nbformat": 4,
 "nbformat_minor": 2
}
