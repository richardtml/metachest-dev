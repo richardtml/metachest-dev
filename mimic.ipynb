{
 "cells": [
  {
   "attachments": {},
   "cell_type": "markdown",
   "metadata": {},
   "source": [
    "# MIMIC CSV\n",
    "\n",
    "This notebook generates `mimic.csv` assuming the following are downloaded:\n",
    "\n",
    "* [MIMIC-CXR-JPG](https://physionet.org/content/mimic-cxr-jpg/2.0.0/) dataset\n"
   ]
  },
  {
   "cell_type": "code",
   "execution_count": null,
   "metadata": {
    "execution": {
     "iopub.execute_input": "2024-05-15T01:18:01.286750Z",
     "iopub.status.busy": "2024-05-15T01:18:01.286638Z",
     "iopub.status.idle": "2024-05-15T01:18:01.676295Z",
     "shell.execute_reply": "2024-05-15T01:18:01.675885Z"
    }
   },
   "outputs": [],
   "source": [
    "from os.path import join\n",
    "\n",
    "import pandas as pd\n",
    "\n",
    "from common import read_toml\n",
    "from common import AGE_INTERVAL\n",
    "from common import MIMIC_PATHOLOGIES as PATHOLOGIES\n",
    "\n",
    "UNIQUE_STUDIES = False"
   ]
  },
  {
   "attachments": {},
   "cell_type": "markdown",
   "metadata": {},
   "source": [
    "### Listing files"
   ]
  },
  {
   "cell_type": "code",
   "execution_count": null,
   "metadata": {
    "execution": {
     "iopub.execute_input": "2024-05-15T01:18:01.678038Z",
     "iopub.status.busy": "2024-05-15T01:18:01.677868Z",
     "iopub.status.idle": "2024-05-15T01:18:01.791147Z",
     "shell.execute_reply": "2024-05-15T01:18:01.790666Z"
    }
   },
   "outputs": [],
   "source": [
    "config = read_toml('config.toml')\n",
    "base_dir = join(config['mimic_dir'], 'physionet.org/files/mimic-cxr-jpg/2.0.0')\n",
    "!ls -hs1 {base_dir}"
   ]
  },
  {
   "cell_type": "markdown",
   "metadata": {},
   "source": [
    "### Generating CSV"
   ]
  },
  {
   "cell_type": "code",
   "execution_count": null,
   "metadata": {
    "execution": {
     "iopub.execute_input": "2024-05-15T01:18:01.793027Z",
     "iopub.status.busy": "2024-05-15T01:18:01.792870Z",
     "iopub.status.idle": "2024-05-15T01:18:02.396085Z",
     "shell.execute_reply": "2024-05-15T01:18:02.395682Z"
    }
   },
   "outputs": [],
   "source": [
    "meta_csv_path = join(base_dir, 'mimic-cxr-2.0.0-metadata.csv.gz')\n",
    "meta_df = pd.read_csv(meta_csv_path, compression='gzip', low_memory=False)\n",
    "meta_df"
   ]
  },
  {
   "cell_type": "code",
   "execution_count": null,
   "metadata": {
    "execution": {
     "iopub.execute_input": "2024-05-15T01:18:02.397661Z",
     "iopub.status.busy": "2024-05-15T01:18:02.397512Z",
     "iopub.status.idle": "2024-05-15T01:18:02.544876Z",
     "shell.execute_reply": "2024-05-15T01:18:02.544552Z"
    }
   },
   "outputs": [],
   "source": [
    "labels_csv_path = join(base_dir, 'mimic-cxr-2.0.0-chexpert.csv.gz')\n",
    "labels_df = pd.read_csv(labels_csv_path, compression='gzip', low_memory=False)\n",
    "labels_df"
   ]
  },
  {
   "cell_type": "code",
   "execution_count": null,
   "metadata": {
    "execution": {
     "iopub.execute_input": "2024-05-15T01:18:02.546487Z",
     "iopub.status.busy": "2024-05-15T01:18:02.546307Z",
     "iopub.status.idle": "2024-05-15T01:18:02.646624Z",
     "shell.execute_reply": "2024-05-15T01:18:02.646365Z"
    }
   },
   "outputs": [],
   "source": [
    "# https://github.com/MIT-LCP/mimic-iv-website/blob/master/content/core/patients.md\n",
    "# https://physionet.org/content/mimiciv/2.2/hosp/patients.csv.gz\n",
    "patients_csv_path = join(base_dir, 'patients.csv.gz')\n",
    "patients_df = pd.read_csv(patients_csv_path, compression='gzip', low_memory=False)\n",
    "patients_df"
   ]
  },
  {
   "attachments": {},
   "cell_type": "markdown",
   "metadata": {},
   "source": [
    "Preprocessing `meta_df`:"
   ]
  },
  {
   "cell_type": "code",
   "execution_count": null,
   "metadata": {
    "execution": {
     "iopub.execute_input": "2024-05-15T01:18:02.648048Z",
     "iopub.status.busy": "2024-05-15T01:18:02.647932Z",
     "iopub.status.idle": "2024-05-15T01:18:02.769370Z",
     "shell.execute_reply": "2024-05-15T01:18:02.769044Z"
    }
   },
   "outputs": [],
   "source": [
    "original_size = len(meta_df)\n",
    "print('Available views: ', meta_df.ViewPosition.unique())\n",
    "meta_df = meta_df.dropna(subset=['ViewPosition'])\n",
    "meta_df = meta_df.rename(columns={'ViewPosition': 'view'})\n",
    "meta_df = meta_df[meta_df['view'].isin(['AP', 'PA'])]\n",
    "meta_df['view'] = meta_df['view'].str.lower()\n",
    "meta_df = meta_df[['dicom_id', 'subject_id', 'study_id', 'view']]\n",
    "meta_df = meta_df.reset_index(drop=True)\n",
    "dropped_size = len(meta_df)\n",
    "print(f'meta_df size: original {original_size}, new {dropped_size}, dropped {original_size - dropped_size}')\n",
    "meta_df"
   ]
  },
  {
   "attachments": {},
   "cell_type": "markdown",
   "metadata": {},
   "source": [
    "Preprocessing `labels_df`:"
   ]
  },
  {
   "cell_type": "code",
   "execution_count": null,
   "metadata": {
    "execution": {
     "iopub.execute_input": "2024-05-15T01:18:02.770929Z",
     "iopub.status.busy": "2024-05-15T01:18:02.770781Z",
     "iopub.status.idle": "2024-05-15T01:18:02.815619Z",
     "shell.execute_reply": "2024-05-15T01:18:02.815299Z"
    }
   },
   "outputs": [],
   "source": [
    "original_size = len(labels_df)\n",
    "labels_df = labels_df[~(labels_df['No Finding'] == 1.0)]\n",
    "labels_df = labels_df.drop(['No Finding'], axis=1)\n",
    "\n",
    "labels_df = labels_df.rename(columns={\n",
    "    'Pleural Effusion': 'Effusion',\n",
    "    'Lung Opacity': 'Lung_opacity',\n",
    "})\n",
    "for pathology in PATHOLOGIES:\n",
    "    labels_df = labels_df.rename(columns={pathology.capitalize(): pathology})\n",
    "\n",
    "labels_df = labels_df[['subject_id', 'study_id'] + PATHOLOGIES]\n",
    "\n",
    "labels_df = labels_df.fillna(0)\n",
    "labels_df = labels_df.replace(-1.0, 0)\n",
    "labels_df = labels_df.astype(int)\n",
    "labels_df = labels_df[labels_df[PATHOLOGIES].any(axis=1)]\n",
    "\n",
    "labels_df = labels_df.reset_index(drop=True)\n",
    "dropped_size = len(labels_df)\n",
    "print(f'labels_df size: original {original_size}, new {dropped_size}, dropped {original_size - dropped_size}')\n",
    "labels_df"
   ]
  },
  {
   "attachments": {},
   "cell_type": "markdown",
   "metadata": {},
   "source": [
    "Preprocessing `patients_df`:"
   ]
  },
  {
   "cell_type": "code",
   "execution_count": null,
   "metadata": {
    "execution": {
     "iopub.execute_input": "2024-05-15T01:18:02.817087Z",
     "iopub.status.busy": "2024-05-15T01:18:02.816939Z",
     "iopub.status.idle": "2024-05-15T01:18:02.860655Z",
     "shell.execute_reply": "2024-05-15T01:18:02.860371Z"
    }
   },
   "outputs": [],
   "source": [
    "original_size = len(patients_df)\n",
    "patients_df = patients_df.rename(columns={'anchor_age': 'age', 'gender': 'sex'})\n",
    "patients_df = patients_df.dropna(subset=['age', 'sex'])\n",
    "patients_df = patients_df[patients_df['age'].between(*AGE_INTERVAL, inclusive='both')]\n",
    "patients_df = patients_df[['subject_id', 'age', 'sex']]\n",
    "patients_df['sex'] = patients_df['sex'].str.lower()\n",
    "patients_df = patients_df.reset_index(drop=True)\n",
    "dropped_size = len(patients_df)\n",
    "print(f'patients_df size: original {original_size}, new {dropped_size}, dropped {original_size - dropped_size}')\n",
    "patients_df"
   ]
  },
  {
   "attachments": {},
   "cell_type": "markdown",
   "metadata": {},
   "source": [
    "Join `meta_df` and `patients_df`:"
   ]
  },
  {
   "cell_type": "code",
   "execution_count": null,
   "metadata": {
    "execution": {
     "iopub.execute_input": "2024-05-15T01:18:02.862141Z",
     "iopub.status.busy": "2024-05-15T01:18:02.861990Z",
     "iopub.status.idle": "2024-05-15T01:18:02.892912Z",
     "shell.execute_reply": "2024-05-15T01:18:02.892558Z"
    }
   },
   "outputs": [],
   "source": [
    "meta_patients_df = pd.merge(meta_df, patients_df, how='inner', on=['subject_id'])\n",
    "print(f'Drop {len(patients_df) - len(meta_patients_df)} records')\n",
    "meta_patients_df"
   ]
  },
  {
   "attachments": {},
   "cell_type": "markdown",
   "metadata": {},
   "source": [
    "Join all:"
   ]
  },
  {
   "cell_type": "code",
   "execution_count": null,
   "metadata": {
    "execution": {
     "iopub.execute_input": "2024-05-15T01:18:02.894395Z",
     "iopub.status.busy": "2024-05-15T01:18:02.894249Z",
     "iopub.status.idle": "2024-05-15T01:18:02.951385Z",
     "shell.execute_reply": "2024-05-15T01:18:02.951066Z"
    }
   },
   "outputs": [],
   "source": [
    "all_df = pd.merge(meta_patients_df, labels_df, how='inner', on=['subject_id', 'study_id'])\n",
    "print(f'Drop {len(meta_df) - len(labels_df)} records')\n",
    "all_df"
   ]
  },
  {
   "attachments": {},
   "cell_type": "markdown",
   "metadata": {},
   "source": [
    "Final df:"
   ]
  },
  {
   "cell_type": "code",
   "execution_count": null,
   "metadata": {
    "execution": {
     "iopub.execute_input": "2024-05-15T01:18:02.952965Z",
     "iopub.status.busy": "2024-05-15T01:18:02.952723Z",
     "iopub.status.idle": "2024-05-15T01:18:03.105057Z",
     "shell.execute_reply": "2024-05-15T01:18:03.104740Z"
    }
   },
   "outputs": [],
   "source": [
    "all_df['name'] = (\n",
    "    'p' +\n",
    "    all_df['subject_id'].astype('string').str[:2] +\n",
    "    '/' +\n",
    "    'p' +\n",
    "    all_df['subject_id'].astype('string') +\n",
    "    '/' +\n",
    "    's' +\n",
    "    all_df['study_id'].astype('string') +\n",
    "    '/' +\n",
    "    all_df['dicom_id']\n",
    ")\n",
    "if UNIQUE_STUDIES:\n",
    "    all_df = all_df.groupby(['subject_id']).first()\n",
    "cols = ['name', 'age', 'sex', 'view'] + PATHOLOGIES\n",
    "df = all_df[cols]\n",
    "df.insert(0, 'dataset', 'mimic', True)\n",
    "df"
   ]
  },
  {
   "attachments": {},
   "cell_type": "markdown",
   "metadata": {},
   "source": [
    " Check there are no normal examples:"
   ]
  },
  {
   "cell_type": "code",
   "execution_count": null,
   "metadata": {
    "execution": {
     "iopub.execute_input": "2024-05-15T01:18:03.106561Z",
     "iopub.status.busy": "2024-05-15T01:18:03.106419Z",
     "iopub.status.idle": "2024-05-15T01:18:03.112493Z",
     "shell.execute_reply": "2024-05-15T01:18:03.112270Z"
    }
   },
   "outputs": [],
   "source": [
    "df[(~df[PATHOLOGIES].astype(bool)).all(axis=1)]"
   ]
  },
  {
   "attachments": {},
   "cell_type": "markdown",
   "metadata": {},
   "source": [
    "### Saving CSV"
   ]
  },
  {
   "cell_type": "code",
   "execution_count": null,
   "metadata": {
    "execution": {
     "iopub.execute_input": "2024-05-15T01:18:03.113879Z",
     "iopub.status.busy": "2024-05-15T01:18:03.113740Z",
     "iopub.status.idle": "2024-05-15T01:18:03.333094Z",
     "shell.execute_reply": "2024-05-15T01:18:03.332784Z"
    }
   },
   "outputs": [],
   "source": [
    "path = join(read_toml('config.toml')['metachest_dir'], 'mimic.csv')\n",
    "df.to_csv(path, index=False)\n",
    "path"
   ]
  },
  {
   "attachments": {},
   "cell_type": "markdown",
   "metadata": {},
   "source": [
    "Overview:"
   ]
  },
  {
   "cell_type": "code",
   "execution_count": null,
   "metadata": {
    "execution": {
     "iopub.execute_input": "2024-05-15T01:18:03.334572Z",
     "iopub.status.busy": "2024-05-15T01:18:03.334427Z",
     "iopub.status.idle": "2024-05-15T01:18:03.339070Z",
     "shell.execute_reply": "2024-05-15T01:18:03.338844Z"
    }
   },
   "outputs": [],
   "source": [
    "print(f'Total: {df.shape[0]}')\n",
    "df[PATHOLOGIES].sum()"
   ]
  }
 ],
 "metadata": {
  "kernelspec": {
   "display_name": "meta-cxr",
   "language": "python",
   "name": "python3"
  },
  "language_info": {
   "codemirror_mode": {
    "name": "ipython",
    "version": 3
   },
   "file_extension": ".py",
   "mimetype": "text/x-python",
   "name": "python",
   "nbconvert_exporter": "python",
   "pygments_lexer": "ipython3",
   "version": "3.12.3"
  },
  "vscode": {
   "interpreter": {
    "hash": "828448848f9aabb5174182aff7487f24476d09daf7da4bd3b030d8cfe91c04bc"
   }
  }
 },
 "nbformat": 4,
 "nbformat_minor": 2
}
